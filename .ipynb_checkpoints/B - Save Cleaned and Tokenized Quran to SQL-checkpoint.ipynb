{
 "cells": [
  {
   "cell_type": "code",
   "execution_count": 1,
   "id": "27ea0b02",
   "metadata": {},
   "outputs": [],
   "source": [
    "import pandas as pd"
   ]
  },
  {
   "cell_type": "code",
   "execution_count": 2,
   "id": "ff66e497",
   "metadata": {},
   "outputs": [],
   "source": [
    "df_quran = pd.read_json ('en.itani.formatted.json')\n",
    "# make sure number of rows pairs with the index\n",
    "# df_quran_itani = df.reset_index()"
   ]
  },
  {
   "cell_type": "code",
   "execution_count": 3,
   "id": "5baa5058",
   "metadata": {},
   "outputs": [
    {
     "data": {
      "text/html": [
       "<div>\n",
       "<style scoped>\n",
       "    .dataframe tbody tr th:only-of-type {\n",
       "        vertical-align: middle;\n",
       "    }\n",
       "\n",
       "    .dataframe tbody tr th {\n",
       "        vertical-align: top;\n",
       "    }\n",
       "\n",
       "    .dataframe thead th {\n",
       "        text-align: right;\n",
       "    }\n",
       "</style>\n",
       "<table border=\"1\" class=\"dataframe\">\n",
       "  <thead>\n",
       "    <tr style=\"text-align: right;\">\n",
       "      <th></th>\n",
       "      <th>surah_number</th>\n",
       "      <th>aya_number</th>\n",
       "      <th>translation</th>\n",
       "      <th>translation_clean</th>\n",
       "      <th>translation_tokenized</th>\n",
       "    </tr>\n",
       "  </thead>\n",
       "  <tbody>\n",
       "    <tr>\n",
       "      <th>0</th>\n",
       "      <td>1</td>\n",
       "      <td>1</td>\n",
       "      <td>In the name of God, the Gracious, the Merciful.</td>\n",
       "      <td>in the name of god the gracious the merciful</td>\n",
       "      <td>in the name of god the graciou the merci</td>\n",
       "    </tr>\n",
       "    <tr>\n",
       "      <th>1</th>\n",
       "      <td>1</td>\n",
       "      <td>2</td>\n",
       "      <td>Praise be to God, Lord of the Worlds.</td>\n",
       "      <td>praise be to god lord of the worlds</td>\n",
       "      <td>prais be to god lord of the world</td>\n",
       "    </tr>\n",
       "    <tr>\n",
       "      <th>2</th>\n",
       "      <td>1</td>\n",
       "      <td>3</td>\n",
       "      <td>The Most Gracious, the Most Merciful.</td>\n",
       "      <td>the most gracious the most merciful</td>\n",
       "      <td>the most graciou the most merci</td>\n",
       "    </tr>\n",
       "    <tr>\n",
       "      <th>3</th>\n",
       "      <td>1</td>\n",
       "      <td>4</td>\n",
       "      <td>Master of the Day of Judgment.</td>\n",
       "      <td>master of the day of judgment</td>\n",
       "      <td>master of the day of judgment</td>\n",
       "    </tr>\n",
       "    <tr>\n",
       "      <th>4</th>\n",
       "      <td>1</td>\n",
       "      <td>5</td>\n",
       "      <td>It is You we worship, and upon You we call for...</td>\n",
       "      <td>it is you we worship and upon you we call for ...</td>\n",
       "      <td>it is you we worship and upon you we call for ...</td>\n",
       "    </tr>\n",
       "  </tbody>\n",
       "</table>\n",
       "</div>"
      ],
      "text/plain": [
       "   surah_number  aya_number  \\\n",
       "0             1           1   \n",
       "1             1           2   \n",
       "2             1           3   \n",
       "3             1           4   \n",
       "4             1           5   \n",
       "\n",
       "                                         translation  \\\n",
       "0    In the name of God, the Gracious, the Merciful.   \n",
       "1              Praise be to God, Lord of the Worlds.   \n",
       "2              The Most Gracious, the Most Merciful.   \n",
       "3                     Master of the Day of Judgment.   \n",
       "4  It is You we worship, and upon You we call for...   \n",
       "\n",
       "                                   translation_clean  \\\n",
       "0       in the name of god the gracious the merciful   \n",
       "1                praise be to god lord of the worlds   \n",
       "2                the most gracious the most merciful   \n",
       "3                      master of the day of judgment   \n",
       "4  it is you we worship and upon you we call for ...   \n",
       "\n",
       "                               translation_tokenized  \n",
       "0           in the name of god the graciou the merci  \n",
       "1                  prais be to god lord of the world  \n",
       "2                    the most graciou the most merci  \n",
       "3                      master of the day of judgment  \n",
       "4  it is you we worship and upon you we call for ...  "
      ]
     },
     "execution_count": 3,
     "metadata": {},
     "output_type": "execute_result"
    }
   ],
   "source": [
    "df_quran.head()"
   ]
  },
  {
   "cell_type": "code",
   "execution_count": 4,
   "id": "06c9815b",
   "metadata": {},
   "outputs": [],
   "source": [
    "import mysql.connector"
   ]
  },
  {
   "cell_type": "code",
   "execution_count": 5,
   "id": "9f1f7c20",
   "metadata": {},
   "outputs": [],
   "source": [
    "from sqlalchemy import create_engine"
   ]
  },
  {
   "cell_type": "code",
   "execution_count": 6,
   "id": "a832fc8b",
   "metadata": {},
   "outputs": [],
   "source": [
    "hostname=\"localhost\"\n",
    "dbname=\"quran\"\n",
    "uname=\"root\"\n",
    "pwd=\"mysql\""
   ]
  },
  {
   "cell_type": "code",
   "execution_count": 7,
   "id": "fdbe24a4",
   "metadata": {},
   "outputs": [],
   "source": [
    "# Create SQLAlchemy engine to connect to MySQL Database\n",
    "engine = create_engine(\"mysql+pymysql://{user}:{pw}@{host}/{db}\".format(host=hostname, db=dbname, user=uname, pw=pwd))"
   ]
  },
  {
   "cell_type": "code",
   "execution_count": 9,
   "id": "8adcad99",
   "metadata": {},
   "outputs": [
    {
     "data": {
      "text/plain": [
       "6236"
      ]
     },
     "execution_count": 9,
     "metadata": {},
     "output_type": "execute_result"
    }
   ],
   "source": [
    "# Save to MySQL using chunks of 500 rows each\n",
    "df_quran.to_sql('tbl_formatted_translation', engine, index=False, if_exists='append', chunksize=500, method=None)"
   ]
  }
 ],
 "metadata": {
  "kernelspec": {
   "display_name": "Python 3 (ipykernel)",
   "language": "python",
   "name": "python3"
  },
  "language_info": {
   "codemirror_mode": {
    "name": "ipython",
    "version": 3
   },
   "file_extension": ".py",
   "mimetype": "text/x-python",
   "name": "python",
   "nbconvert_exporter": "python",
   "pygments_lexer": "ipython3",
   "version": "3.8.9"
  }
 },
 "nbformat": 4,
 "nbformat_minor": 5
}
