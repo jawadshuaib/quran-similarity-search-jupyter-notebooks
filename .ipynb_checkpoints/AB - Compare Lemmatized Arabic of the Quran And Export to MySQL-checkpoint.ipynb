{
 "cells": [
  {
   "cell_type": "markdown",
   "id": "163e9c2b",
   "metadata": {},
   "source": [
    "# Get Cosine Similarity Between the Arabic Verses of the Quran"
   ]
  },
  {
   "cell_type": "code",
   "execution_count": 1,
   "id": "4cdb764f",
   "metadata": {},
   "outputs": [],
   "source": [
    "#Import dependencies\n",
    "import re, math\n",
    "import heapq\n",
    "from collections import Counter"
   ]
  },
  {
   "cell_type": "code",
   "execution_count": 2,
   "id": "dbd06e8b",
   "metadata": {},
   "outputs": [],
   "source": [
    "WORD = re.compile(r'\\w+')"
   ]
  },
  {
   "cell_type": "code",
   "execution_count": 3,
   "id": "c3fcc625",
   "metadata": {},
   "outputs": [],
   "source": [
    "#Convert text to vector\n",
    "def text_to_vector(text):\n",
    "        words = WORD.findall(text)\n",
    "        return Counter(words)"
   ]
  },
  {
   "cell_type": "code",
   "execution_count": 4,
   "id": "12ae81be",
   "metadata": {},
   "outputs": [],
   "source": [
    "#Get cosine similarity\n",
    "def get_cosine(vec1, vec2):\n",
    "     intersection = set(vec1.keys()) & set(vec2.keys())\n",
    "     numerator = sum([vec1[x] * vec2[x] for x in intersection])\n",
    "\n",
    "     sum1 = sum([vec1[x]**2 for x in vec1.keys()])\n",
    "     sum2 = sum([vec2[x]**2 for x in vec2.keys()])\n",
    "     denominator = math.sqrt(sum1) * math.sqrt(sum2)\n",
    "\n",
    "     if not denominator:\n",
    "        return 0.0\n",
    "     else:\n",
    "        return float(numerator) / denominator"
   ]
  },
  {
   "cell_type": "code",
   "execution_count": 5,
   "id": "ba33e328",
   "metadata": {},
   "outputs": [],
   "source": [
    "#Compare similarities\n",
    "def compare_similarity(text1,text2):\n",
    "    vector1 = text_to_vector(text1)\n",
    "    vector2 = text_to_vector(text2)\n",
    "\n",
    "    cosine = get_cosine(vector1, vector2)\n",
    "    return cosine   "
   ]
  },
  {
   "cell_type": "code",
   "execution_count": 10,
   "id": "2d427d49",
   "metadata": {},
   "outputs": [
    {
     "name": "stdout",
     "output_type": "stream",
     "text": [
      "0.674199862463242\n"
     ]
    }
   ],
   "source": [
    "text1 = \"أمة جاء يستأخرون ساعة يستقدمون\"\n",
    "text2 = \"قال ملك ضر نفع شاء الله أمة جاء يستأخرون ساعة يستقدمون\"\n",
    "print (compare_similarity (text1,text2))"
   ]
  },
  {
   "cell_type": "markdown",
   "id": "0e17fe58",
   "metadata": {},
   "source": [
    "## Update MySQL record for tbl_similarity_score"
   ]
  },
  {
   "cell_type": "code",
   "execution_count": 12,
   "id": "dda23410",
   "metadata": {},
   "outputs": [],
   "source": [
    "import mysql.connector\n",
    "from sqlalchemy import create_engine"
   ]
  },
  {
   "cell_type": "code",
   "execution_count": 13,
   "id": "70b9fd66",
   "metadata": {},
   "outputs": [],
   "source": [
    "hostname=\"localhost\"\n",
    "dbname=\"quran_db\"\n",
    "uname=\"root\"\n",
    "pwd=\"mysql\""
   ]
  },
  {
   "cell_type": "code",
   "execution_count": 14,
   "id": "015aeec2",
   "metadata": {},
   "outputs": [],
   "source": [
    "import pymysql"
   ]
  },
  {
   "cell_type": "code",
   "execution_count": 23,
   "id": "77c22d0d",
   "metadata": {},
   "outputs": [],
   "source": [
    "connection = pymysql.connect(host=hostname, user=uname, passwd=pwd, db=dbname)"
   ]
  },
  {
   "cell_type": "code",
   "execution_count": 35,
   "id": "fa0d2caa",
   "metadata": {},
   "outputs": [],
   "source": [
    "def handler ():\n",
    "    \n",
    "    translation_id = 678\n",
    "    \n",
    "    curA = connection.cursor()\n",
    "    # Get every aya\n",
    "    curA.execute(\"SELECT surah_number, aya_number, text_arabic_lemmatized, text_arabic_lemmatized_without_stop_words FROM `tbl_quran` LIMIT 1\")\n",
    "    for A in curA.fetchall():\n",
    "        surah_number = A[0]\n",
    "        aya_number = A[1]\n",
    "        text_arabic_lemmatized = A[2]\n",
    "        text_arabic_lemmatized_without_stop_words = A[3]        \n",
    "\n",
    "        # For each aya, compare to every other aya\n",
    "        curB = connection.cursor()\n",
    "        curB.execute(\"SELECT compare_to_surah_number, compare_to_aya_number FROM `tbl_similarity_score` WHERE surah_number = {0} AND aya_number = {1}\".format (surah_number, aya_number))\n",
    "        \n",
    "        for B in curB.fetchall():\n",
    "            compare_to_surah_number = B[0]\n",
    "            compare_to_aya_number = B[1]\n",
    "            \n",
    "            # Get arabic for the comparison\n",
    "            curC = connection.cursor()\n",
    "            curC.execute(\"SELECT text_arabic_lemmatized, text_arabic_lemmatized_without_stop_words FROM `tbl_quran` WHERE surah_number = {0} AND aya_number = {1}\".format (compare_to_surah_number, compare_to_aya_number))\n",
    "            C = curC.fetchone()\n",
    "            compare_to_text_arabic_lemmatized = C[0]\n",
    "            compare_to_text_arabic_lemmatized_without_stop_words = C[1]            \n",
    "            \n",
    "            cosine_similarity_arabic_lemmatized = compare_similarity (text_arabic_lemmatized, compare_to_text_arabic_lemmatized)\n",
    "            cosine_similarity_arabic_lemmatized_without_stop_words = compare_similarity (text_arabic_lemmatized_without_stop_words, compare_to_text_arabic_lemmatized_without_stop_words)\n",
    "            \n",
    "            #print (surah_number, aya_number, compare_to_surah_number, compare_to_aya_number, cosine_similarity_arabic_lemmatized, cosine_similarity_arabic_lemmatized_without_stop_words)\n",
    "            curD = connection.cursor ()\n",
    "            curD.execute (\"INSERT INTO tbl_similarity_score (translation_id, surah_number, aya_number, compare_to_surah_number, compare_to_aya_number, cosine_similarity_arabic_lemmatized, cosine_similarity_arabic_lemmatized_without_stop_words) VALUES ({0}, {1}, {2}, {3}, {4}, {5}, {6})\".format (translation_id, surah_number, aya_number, compare_to_surah_number, compare_to_aya_number, cosine_similarity_arabic_lemmatized, cosine_similarity_arabic_lemmatized_without_stop_words))\n",
    "#             print (surah_number, aya_number, compare_to_surah_number, compare_to_aya_number)\n",
    "            connection.commit()\n",
    "handler()\n"
   ]
  },
  {
   "cell_type": "code",
   "execution_count": 37,
   "id": "ff3000c4",
   "metadata": {},
   "outputs": [
    {
     "ename": "Error",
     "evalue": "Already closed",
     "output_type": "error",
     "traceback": [
      "\u001b[0;31m---------------------------------------------------------------------------\u001b[0m",
      "\u001b[0;31mError\u001b[0m                                     Traceback (most recent call last)",
      "Input \u001b[0;32mIn [37]\u001b[0m, in \u001b[0;36m<cell line: 1>\u001b[0;34m()\u001b[0m\n\u001b[0;32m----> 1\u001b[0m \u001b[43mconnection\u001b[49m\u001b[38;5;241;43m.\u001b[39;49m\u001b[43mclose\u001b[49m\u001b[43m(\u001b[49m\u001b[43m)\u001b[49m\n",
      "File \u001b[0;32m~/Library/Python/3.8/lib/python/site-packages/pymysql/connections.py:404\u001b[0m, in \u001b[0;36mConnection.close\u001b[0;34m(self)\u001b[0m\n\u001b[1;32m    395\u001b[0m \u001b[38;5;124;03m\"\"\"\u001b[39;00m\n\u001b[1;32m    396\u001b[0m \u001b[38;5;124;03mSend the quit message and close the socket.\u001b[39;00m\n\u001b[1;32m    397\u001b[0m \n\u001b[0;32m   (...)\u001b[0m\n\u001b[1;32m    401\u001b[0m \u001b[38;5;124;03m:raise Error: If the connection is already closed.\u001b[39;00m\n\u001b[1;32m    402\u001b[0m \u001b[38;5;124;03m\"\"\"\u001b[39;00m\n\u001b[1;32m    403\u001b[0m \u001b[38;5;28;01mif\u001b[39;00m \u001b[38;5;28mself\u001b[39m\u001b[38;5;241m.\u001b[39m_closed:\n\u001b[0;32m--> 404\u001b[0m     \u001b[38;5;28;01mraise\u001b[39;00m err\u001b[38;5;241m.\u001b[39mError(\u001b[38;5;124m\"\u001b[39m\u001b[38;5;124mAlready closed\u001b[39m\u001b[38;5;124m\"\u001b[39m)\n\u001b[1;32m    405\u001b[0m \u001b[38;5;28mself\u001b[39m\u001b[38;5;241m.\u001b[39m_closed \u001b[38;5;241m=\u001b[39m \u001b[38;5;28;01mTrue\u001b[39;00m\n\u001b[1;32m    406\u001b[0m \u001b[38;5;28;01mif\u001b[39;00m \u001b[38;5;28mself\u001b[39m\u001b[38;5;241m.\u001b[39m_sock \u001b[38;5;129;01mis\u001b[39;00m \u001b[38;5;28;01mNone\u001b[39;00m:\n",
      "\u001b[0;31mError\u001b[0m: Already closed"
     ]
    }
   ],
   "source": [
    "connection.close()"
   ]
  }
 ],
 "metadata": {
  "kernelspec": {
   "display_name": "Python 3 (ipykernel)",
   "language": "python",
   "name": "python3"
  },
  "language_info": {
   "codemirror_mode": {
    "name": "ipython",
    "version": 3
   },
   "file_extension": ".py",
   "mimetype": "text/x-python",
   "name": "python",
   "nbconvert_exporter": "python",
   "pygments_lexer": "ipython3",
   "version": "3.8.9"
  }
 },
 "nbformat": 4,
 "nbformat_minor": 5
}
