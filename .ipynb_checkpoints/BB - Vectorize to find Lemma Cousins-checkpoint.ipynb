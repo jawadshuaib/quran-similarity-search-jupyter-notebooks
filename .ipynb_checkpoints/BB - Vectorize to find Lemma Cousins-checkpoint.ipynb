{
 "cells": [
  {
   "cell_type": "markdown",
   "id": "fd6d91dd",
   "metadata": {},
   "source": [
    "# Find most closely related lemma for each lemma"
   ]
  },
  {
   "cell_type": "markdown",
   "id": "77e839eb",
   "metadata": {},
   "source": [
    "## Vectorize methods for splitting and comparing strings"
   ]
  },
  {
   "cell_type": "code",
   "execution_count": 2,
   "id": "fa33f937",
   "metadata": {},
   "outputs": [],
   "source": [
    "#Import dependencies\n",
    "import re, math\n",
    "import heapq\n",
    "from collections import Counter"
   ]
  },
  {
   "cell_type": "code",
   "execution_count": 3,
   "id": "8c3788ec",
   "metadata": {},
   "outputs": [],
   "source": [
    "#Convert text to vector\n",
    "def text_to_vector(text):\n",
    "        letters = list (text)\n",
    "        return Counter(letters)"
   ]
  },
  {
   "cell_type": "code",
   "execution_count": 4,
   "id": "332c01d2",
   "metadata": {},
   "outputs": [
    {
     "data": {
      "text/plain": [
       "Counter({'إ': 1, 'ن': 2, 'س': 1, 'ا': 1})"
      ]
     },
     "execution_count": 4,
     "metadata": {},
     "output_type": "execute_result"
    }
   ],
   "source": [
    "text_to_vector ('إنسان')"
   ]
  },
  {
   "cell_type": "code",
   "execution_count": 5,
   "id": "92b5188d",
   "metadata": {},
   "outputs": [],
   "source": [
    "#Get cosine similarity\n",
    "def get_cosine(vec1, vec2):\n",
    "     intersection = set(vec1.keys()) & set(vec2.keys())\n",
    "     numerator = sum([vec1[x] * vec2[x] for x in intersection])\n",
    "\n",
    "     sum1 = sum([vec1[x]**2 for x in vec1.keys()])\n",
    "     sum2 = sum([vec2[x]**2 for x in vec2.keys()])\n",
    "     denominator = math.sqrt(sum1) * math.sqrt(sum2)\n",
    "\n",
    "     if not denominator:\n",
    "        return 0.0\n",
    "     else:\n",
    "        return float(numerator) / denominator"
   ]
  },
  {
   "cell_type": "code",
   "execution_count": 6,
   "id": "72c6afdf",
   "metadata": {},
   "outputs": [],
   "source": [
    "#Compare similarities\n",
    "def compare_similarity(text1,text2):\n",
    "    vector1 = text_to_vector(text1)\n",
    "    vector2 = text_to_vector(text2)\n",
    "\n",
    "    cosine = get_cosine(vector1, vector2)\n",
    "    return cosine   "
   ]
  },
  {
   "cell_type": "code",
   "execution_count": 7,
   "id": "fcd0cf18",
   "metadata": {},
   "outputs": [
    {
     "name": "stdout",
     "output_type": "stream",
     "text": [
      "0.7171371656006361\n"
     ]
    }
   ],
   "source": [
    "lemma1 = 'إنسان'\n",
    "lemma2 = 'نسَانَ'\n",
    "print (compare_similarity (lemma1, lemma2))"
   ]
  },
  {
   "cell_type": "markdown",
   "id": "8fb28978",
   "metadata": {},
   "source": [
    "## Get a list of unique lemma's in the Qur'an"
   ]
  },
  {
   "cell_type": "code",
   "execution_count": 11,
   "id": "18ff1180",
   "metadata": {},
   "outputs": [],
   "source": [
    "import pymysql\n",
    "import connection.config"
   ]
  },
  {
   "cell_type": "code",
   "execution_count": 12,
   "id": "e79b595d",
   "metadata": {},
   "outputs": [],
   "source": [
    "connection = pymysql.connect(**connection.config.config)\n",
    "def get_set_of_lemmatized_words_from_quran ():\n",
    "    \n",
    "    s = set()\n",
    "    \n",
    "    cur = connection.cursor()\n",
    "    cur.execute(\"SELECT DISTINCT(lemmatized_word) FROM `tbl_translated_words`\")\n",
    "    \n",
    "    for row in cur.fetchall():\n",
    "        s.add (row[0])\n",
    "\n",
    "    connection.close ()\n",
    "    return s"
   ]
  },
  {
   "cell_type": "code",
   "execution_count": 13,
   "id": "88dbd730",
   "metadata": {},
   "outputs": [],
   "source": [
    "lemmas = get_set_of_lemmatized_words_from_quran ()"
   ]
  },
  {
   "cell_type": "code",
   "execution_count": 14,
   "id": "261bb0be",
   "metadata": {
    "scrolled": true
   },
   "outputs": [
    {
     "data": {
      "text/plain": [
       "5647"
      ]
     },
     "execution_count": 14,
     "metadata": {},
     "output_type": "execute_result"
    }
   ],
   "source": [
    "len (lemmas)"
   ]
  },
  {
   "cell_type": "markdown",
   "id": "bbcab5e6",
   "metadata": {},
   "source": [
    "## Compare each lemma with every other lemma and save it"
   ]
  },
  {
   "cell_type": "markdown",
   "id": "5769dd41",
   "metadata": {},
   "source": [
    "Use a memory efficient method to perform lemma comparison.\n",
    "\n",
    "We first load the data into a csv file in memory, and then output it to a DataFrame.\n",
    "\n",
    "Read more about the technique here: https://stackoverflow.com/questions/41888080/python-efficient-way-to-add-rows-to-dataframe"
   ]
  },
  {
   "cell_type": "code",
   "execution_count": 15,
   "id": "eb72aa79",
   "metadata": {},
   "outputs": [],
   "source": [
    "from io import StringIO\n",
    "from csv import writer \n",
    "import pandas as pd"
   ]
  },
  {
   "cell_type": "code",
   "execution_count": 16,
   "id": "8e75db3b",
   "metadata": {},
   "outputs": [],
   "source": [
    "# Store in csv memory object\n",
    "output = StringIO()\n",
    "csv_writer = writer(output)"
   ]
  },
  {
   "cell_type": "code",
   "execution_count": 17,
   "id": "944aad37",
   "metadata": {},
   "outputs": [],
   "source": [
    "csv_writer.writerow(['lemma_1', 'lemma_2', 'cosine_similarity'])\n",
    "for lemma1 in lemmas:\n",
    "    for lemma2 in lemmas:\n",
    "        if lemma1 != lemma2:\n",
    "            similarity = compare_similarity (lemma1, lemma2)\n",
    "            if similarity != 0:\n",
    "                csv_writer.writerow([lemma1, lemma2, similarity])\n",
    "#     break;"
   ]
  },
  {
   "cell_type": "code",
   "execution_count": 18,
   "id": "bd913dbe",
   "metadata": {},
   "outputs": [],
   "source": [
    "# Read back into the dataframe\n",
    "output.seek(0)\n",
    "df = pd.read_csv(output)"
   ]
  },
  {
   "cell_type": "code",
   "execution_count": null,
   "id": "61d38be2",
   "metadata": {},
   "outputs": [],
   "source": [
    "# df = pd.DataFrame(columns=['lemma_1', 'lemma_2', 'cosine_similarity'])"
   ]
  },
  {
   "cell_type": "code",
   "execution_count": 19,
   "id": "f12b9b07",
   "metadata": {},
   "outputs": [
    {
     "data": {
      "text/plain": [
       "18269852"
      ]
     },
     "execution_count": 19,
     "metadata": {},
     "output_type": "execute_result"
    }
   ],
   "source": [
    "len (df)"
   ]
  },
  {
   "cell_type": "markdown",
   "id": "9acd0e29",
   "metadata": {},
   "source": [
    "## Save results to SQL"
   ]
  },
  {
   "cell_type": "code",
   "execution_count": 55,
   "id": "bf546d89",
   "metadata": {},
   "outputs": [],
   "source": [
    "from sqlalchemy import create_engine\n",
    "import connection.config"
   ]
  },
  {
   "cell_type": "code",
   "execution_count": 56,
   "id": "1c22f5cc",
   "metadata": {},
   "outputs": [],
   "source": [
    "# Create SQLAlchemy engine to connect to MySQL Database\n",
    "engine = create_engine(\"mysql+pymysql://{user}:{passwd}@{host}/{db}\".format(**connection.config.config))"
   ]
  },
  {
   "cell_type": "code",
   "execution_count": 57,
   "id": "1c700bef",
   "metadata": {},
   "outputs": [
    {
     "data": {
      "text/plain": [
       "31882962"
      ]
     },
     "execution_count": 57,
     "metadata": {},
     "output_type": "execute_result"
    }
   ],
   "source": [
    "# Save to MySQL using chunks of 500 rows each\n",
    "df.to_sql('tbl_lemma_relatives', engine, index=False, if_exists='append', chunksize=500, method=None)"
   ]
  },
  {
   "cell_type": "code",
   "execution_count": 20,
   "id": "5be589f3",
   "metadata": {},
   "outputs": [],
   "source": [
    "## Save & Retrieve from Pickle file"
   ]
  },
  {
   "cell_type": "code",
   "execution_count": 21,
   "id": "11b94701",
   "metadata": {},
   "outputs": [],
   "source": [
    "df.to_pickle('data/tbl_lemma_relatives.pkl')"
   ]
  },
  {
   "cell_type": "code",
   "execution_count": 22,
   "id": "00c507be",
   "metadata": {},
   "outputs": [
    {
     "data": {
      "text/html": [
       "<div>\n",
       "<style scoped>\n",
       "    .dataframe tbody tr th:only-of-type {\n",
       "        vertical-align: middle;\n",
       "    }\n",
       "\n",
       "    .dataframe tbody tr th {\n",
       "        vertical-align: top;\n",
       "    }\n",
       "\n",
       "    .dataframe thead th {\n",
       "        text-align: right;\n",
       "    }\n",
       "</style>\n",
       "<table border=\"1\" class=\"dataframe\">\n",
       "  <thead>\n",
       "    <tr style=\"text-align: right;\">\n",
       "      <th></th>\n",
       "      <th>lemma_1</th>\n",
       "      <th>lemma_2</th>\n",
       "      <th>cosine_similarity</th>\n",
       "    </tr>\n",
       "  </thead>\n",
       "  <tbody>\n",
       "    <tr>\n",
       "      <th>0</th>\n",
       "      <td>ذراع</td>\n",
       "      <td>أخرجتم</td>\n",
       "      <td>0.204124</td>\n",
       "    </tr>\n",
       "    <tr>\n",
       "      <th>1</th>\n",
       "      <td>ذراع</td>\n",
       "      <td>شاور</td>\n",
       "      <td>0.500000</td>\n",
       "    </tr>\n",
       "    <tr>\n",
       "      <th>2</th>\n",
       "      <td>ذراع</td>\n",
       "      <td>ونصرناهم</td>\n",
       "      <td>0.316228</td>\n",
       "    </tr>\n",
       "    <tr>\n",
       "      <th>3</th>\n",
       "      <td>ذراع</td>\n",
       "      <td>استأذن</td>\n",
       "      <td>0.408248</td>\n",
       "    </tr>\n",
       "    <tr>\n",
       "      <th>4</th>\n",
       "      <td>ذراع</td>\n",
       "      <td>تخافوهم</td>\n",
       "      <td>0.188982</td>\n",
       "    </tr>\n",
       "  </tbody>\n",
       "</table>\n",
       "</div>"
      ],
      "text/plain": [
       "  lemma_1   lemma_2  cosine_similarity\n",
       "0    ذراع    أخرجتم           0.204124\n",
       "1    ذراع      شاور           0.500000\n",
       "2    ذراع  ونصرناهم           0.316228\n",
       "3    ذراع    استأذن           0.408248\n",
       "4    ذراع   تخافوهم           0.188982"
      ]
     },
     "execution_count": 22,
     "metadata": {},
     "output_type": "execute_result"
    }
   ],
   "source": [
    "df.head()"
   ]
  },
  {
   "cell_type": "markdown",
   "id": "0a626a51",
   "metadata": {},
   "source": [
    "## Refine matches"
   ]
  },
  {
   "cell_type": "markdown",
   "id": "1ee06120",
   "metadata": {},
   "source": [
    "When comparing matches, we need to also check when they begin with the same string. This gives the best results"
   ]
  },
  {
   "cell_type": "code",
   "execution_count": 89,
   "id": "911b3292",
   "metadata": {},
   "outputs": [],
   "source": [
    "dfB = df[df['cosine_similarity'] > 0.9].head(100).copy()"
   ]
  },
  {
   "cell_type": "code",
   "execution_count": 90,
   "id": "d1f08cdd",
   "metadata": {},
   "outputs": [
    {
     "data": {
      "text/plain": [
       "100"
      ]
     },
     "execution_count": 90,
     "metadata": {},
     "output_type": "execute_result"
    }
   ],
   "source": [
    "len (dfB)"
   ]
  },
  {
   "cell_type": "code",
   "execution_count": 85,
   "id": "ba688ecd",
   "metadata": {},
   "outputs": [
    {
     "data": {
      "text/plain": [
       "25179     تخ\n",
       "25876     تخ\n",
       "29431     سن\n",
       "31354     عس\n",
       "31739     عس\n",
       "          ..\n",
       "463604    اس\n",
       "478125    حل\n",
       "479056    حل\n",
       "479638    حل\n",
       "482497    وع\n",
       "Name: lemma_1, Length: 100, dtype: object"
      ]
     },
     "execution_count": 85,
     "metadata": {},
     "output_type": "execute_result"
    }
   ],
   "source": [
    "dfB['lemma_1'].str[:2]"
   ]
  },
  {
   "cell_type": "markdown",
   "id": "45319b79",
   "metadata": {},
   "source": [
    "Relevancy of two initial character match"
   ]
  },
  {
   "cell_type": "code",
   "execution_count": 112,
   "id": "8a429a1e",
   "metadata": {},
   "outputs": [],
   "source": [
    "dfX = df[(df['lemma_1'].str[:2] == df['lemma_2'].str[:2])].copy()"
   ]
  },
  {
   "cell_type": "code",
   "execution_count": 113,
   "id": "712fb265",
   "metadata": {},
   "outputs": [
    {
     "data": {
      "text/plain": [
       "111738"
      ]
     },
     "execution_count": 113,
     "metadata": {},
     "output_type": "execute_result"
    }
   ],
   "source": [
    "len (dfX)"
   ]
  },
  {
   "cell_type": "code",
   "execution_count": 114,
   "id": "66b98b0a",
   "metadata": {},
   "outputs": [
    {
     "data": {
      "text/html": [
       "<div>\n",
       "<style scoped>\n",
       "    .dataframe tbody tr th:only-of-type {\n",
       "        vertical-align: middle;\n",
       "    }\n",
       "\n",
       "    .dataframe tbody tr th {\n",
       "        vertical-align: top;\n",
       "    }\n",
       "\n",
       "    .dataframe thead th {\n",
       "        text-align: right;\n",
       "    }\n",
       "</style>\n",
       "<table border=\"1\" class=\"dataframe\">\n",
       "  <thead>\n",
       "    <tr style=\"text-align: right;\">\n",
       "      <th></th>\n",
       "      <th>lemma_1</th>\n",
       "      <th>lemma_2</th>\n",
       "      <th>cosine_similarity</th>\n",
       "    </tr>\n",
       "  </thead>\n",
       "  <tbody>\n",
       "    <tr>\n",
       "      <th>16877487</th>\n",
       "      <td>شاكر</td>\n",
       "      <td>شارك</td>\n",
       "      <td>1.0</td>\n",
       "    </tr>\n",
       "    <tr>\n",
       "      <th>15174262</th>\n",
       "      <td>أسلف</td>\n",
       "      <td>أسفل</td>\n",
       "      <td>1.0</td>\n",
       "    </tr>\n",
       "    <tr>\n",
       "      <th>11933317</th>\n",
       "      <td>اعمل</td>\n",
       "      <td>اعلم</td>\n",
       "      <td>1.0</td>\n",
       "    </tr>\n",
       "    <tr>\n",
       "      <th>12521445</th>\n",
       "      <td>أقرب</td>\n",
       "      <td>أقبر</td>\n",
       "      <td>1.0</td>\n",
       "    </tr>\n",
       "    <tr>\n",
       "      <th>15172054</th>\n",
       "      <td>أقبر</td>\n",
       "      <td>أقرب</td>\n",
       "      <td>1.0</td>\n",
       "    </tr>\n",
       "    <tr>\n",
       "      <th>8238523</th>\n",
       "      <td>راود</td>\n",
       "      <td>رادو</td>\n",
       "      <td>1.0</td>\n",
       "    </tr>\n",
       "    <tr>\n",
       "      <th>13321524</th>\n",
       "      <td>واعد</td>\n",
       "      <td>وادع</td>\n",
       "      <td>1.0</td>\n",
       "    </tr>\n",
       "    <tr>\n",
       "      <th>12401517</th>\n",
       "      <td>مسفر</td>\n",
       "      <td>مسرف</td>\n",
       "      <td>1.0</td>\n",
       "    </tr>\n",
       "    <tr>\n",
       "      <th>2411282</th>\n",
       "      <td>أعلم</td>\n",
       "      <td>أعمل</td>\n",
       "      <td>1.0</td>\n",
       "    </tr>\n",
       "    <tr>\n",
       "      <th>2173260</th>\n",
       "      <td>وادع</td>\n",
       "      <td>واعد</td>\n",
       "      <td>1.0</td>\n",
       "    </tr>\n",
       "    <tr>\n",
       "      <th>14146065</th>\n",
       "      <td>مريض</td>\n",
       "      <td>مرضي</td>\n",
       "      <td>1.0</td>\n",
       "    </tr>\n",
       "    <tr>\n",
       "      <th>7061138</th>\n",
       "      <td>عليم</td>\n",
       "      <td>علمي</td>\n",
       "      <td>1.0</td>\n",
       "    </tr>\n",
       "    <tr>\n",
       "      <th>7335703</th>\n",
       "      <td>أسفر</td>\n",
       "      <td>أسرف</td>\n",
       "      <td>1.0</td>\n",
       "    </tr>\n",
       "    <tr>\n",
       "      <th>6879193</th>\n",
       "      <td>أسفل</td>\n",
       "      <td>أسلف</td>\n",
       "      <td>1.0</td>\n",
       "    </tr>\n",
       "    <tr>\n",
       "      <th>15939315</th>\n",
       "      <td>تولج</td>\n",
       "      <td>توجل</td>\n",
       "      <td>1.0</td>\n",
       "    </tr>\n",
       "  </tbody>\n",
       "</table>\n",
       "</div>"
      ],
      "text/plain": [
       "         lemma_1 lemma_2  cosine_similarity\n",
       "16877487    شاكر    شارك                1.0\n",
       "15174262    أسلف    أسفل                1.0\n",
       "11933317    اعمل    اعلم                1.0\n",
       "12521445    أقرب    أقبر                1.0\n",
       "15172054    أقبر    أقرب                1.0\n",
       "8238523     راود    رادو                1.0\n",
       "13321524    واعد    وادع                1.0\n",
       "12401517    مسفر    مسرف                1.0\n",
       "2411282     أعلم    أعمل                1.0\n",
       "2173260     وادع    واعد                1.0\n",
       "14146065    مريض    مرضي                1.0\n",
       "7061138     عليم    علمي                1.0\n",
       "7335703     أسفر    أسرف                1.0\n",
       "6879193     أسفل    أسلف                1.0\n",
       "15939315    تولج    توجل                1.0"
      ]
     },
     "execution_count": 114,
     "metadata": {},
     "output_type": "execute_result"
    }
   ],
   "source": [
    "dfX.sort_values(by=['cosine_similarity'], ascending=False).head(15)"
   ]
  },
  {
   "cell_type": "markdown",
   "id": "9481197f",
   "metadata": {},
   "source": [
    "Relevancy of *three* initial character match"
   ]
  },
  {
   "cell_type": "code",
   "execution_count": 115,
   "id": "157b5fbc",
   "metadata": {},
   "outputs": [],
   "source": [
    "dfY = df[(df['lemma_1'].str[:3] == df['lemma_2'].str[:3])].copy()"
   ]
  },
  {
   "cell_type": "code",
   "execution_count": 116,
   "id": "07ae2336",
   "metadata": {},
   "outputs": [
    {
     "data": {
      "text/plain": [
       "15622"
      ]
     },
     "execution_count": 116,
     "metadata": {},
     "output_type": "execute_result"
    }
   ],
   "source": [
    "len (dfY)"
   ]
  },
  {
   "cell_type": "code",
   "execution_count": 117,
   "id": "45b4b626",
   "metadata": {
    "scrolled": false
   },
   "outputs": [
    {
     "data": {
      "text/html": [
       "<div>\n",
       "<style scoped>\n",
       "    .dataframe tbody tr th:only-of-type {\n",
       "        vertical-align: middle;\n",
       "    }\n",
       "\n",
       "    .dataframe tbody tr th {\n",
       "        vertical-align: top;\n",
       "    }\n",
       "\n",
       "    .dataframe thead th {\n",
       "        text-align: right;\n",
       "    }\n",
       "</style>\n",
       "<table border=\"1\" class=\"dataframe\">\n",
       "  <thead>\n",
       "    <tr style=\"text-align: right;\">\n",
       "      <th></th>\n",
       "      <th>lemma_1</th>\n",
       "      <th>lemma_2</th>\n",
       "      <th>cosine_similarity</th>\n",
       "    </tr>\n",
       "  </thead>\n",
       "  <tbody>\n",
       "    <tr>\n",
       "      <th>8810676</th>\n",
       "      <td>يهدني</td>\n",
       "      <td>يهدين</td>\n",
       "      <td>1.000000</td>\n",
       "    </tr>\n",
       "    <tr>\n",
       "      <th>5834385</th>\n",
       "      <td>يهدين</td>\n",
       "      <td>يهدني</td>\n",
       "      <td>1.000000</td>\n",
       "    </tr>\n",
       "    <tr>\n",
       "      <th>9393826</th>\n",
       "      <td>استرق</td>\n",
       "      <td>استقر</td>\n",
       "      <td>1.000000</td>\n",
       "    </tr>\n",
       "    <tr>\n",
       "      <th>772862</th>\n",
       "      <td>استقر</td>\n",
       "      <td>استرق</td>\n",
       "      <td>1.000000</td>\n",
       "    </tr>\n",
       "    <tr>\n",
       "      <th>7883127</th>\n",
       "      <td>ونجيناهم</td>\n",
       "      <td>ونجيناهما</td>\n",
       "      <td>0.964764</td>\n",
       "    </tr>\n",
       "    <tr>\n",
       "      <th>2309240</th>\n",
       "      <td>وهديناهما</td>\n",
       "      <td>وهديناهم</td>\n",
       "      <td>0.964764</td>\n",
       "    </tr>\n",
       "    <tr>\n",
       "      <th>3526202</th>\n",
       "      <td>وهديناهم</td>\n",
       "      <td>وهديناهما</td>\n",
       "      <td>0.964764</td>\n",
       "    </tr>\n",
       "    <tr>\n",
       "      <th>12789327</th>\n",
       "      <td>ونجيناهما</td>\n",
       "      <td>ونجيناهم</td>\n",
       "      <td>0.964764</td>\n",
       "    </tr>\n",
       "    <tr>\n",
       "      <th>4104634</th>\n",
       "      <td>أفأنتم</td>\n",
       "      <td>أفأمنتم</td>\n",
       "      <td>0.959403</td>\n",
       "    </tr>\n",
       "    <tr>\n",
       "      <th>13613454</th>\n",
       "      <td>أفأمنتم</td>\n",
       "      <td>أفأنتم</td>\n",
       "      <td>0.959403</td>\n",
       "    </tr>\n",
       "    <tr>\n",
       "      <th>7588411</th>\n",
       "      <td>تستفت</td>\n",
       "      <td>تستفتي</td>\n",
       "      <td>0.957427</td>\n",
       "    </tr>\n",
       "    <tr>\n",
       "      <th>16420885</th>\n",
       "      <td>ولأدخلنهم</td>\n",
       "      <td>ولأدخلناهم</td>\n",
       "      <td>0.957427</td>\n",
       "    </tr>\n",
       "    <tr>\n",
       "      <th>9885080</th>\n",
       "      <td>ولأدخلناهم</td>\n",
       "      <td>ولأدخلنهم</td>\n",
       "      <td>0.957427</td>\n",
       "    </tr>\n",
       "    <tr>\n",
       "      <th>6678031</th>\n",
       "      <td>تستفتي</td>\n",
       "      <td>تستفت</td>\n",
       "      <td>0.957427</td>\n",
       "    </tr>\n",
       "    <tr>\n",
       "      <th>10992786</th>\n",
       "      <td>اثنتا</td>\n",
       "      <td>اثنتان</td>\n",
       "      <td>0.956183</td>\n",
       "    </tr>\n",
       "  </tbody>\n",
       "</table>\n",
       "</div>"
      ],
      "text/plain": [
       "             lemma_1     lemma_2  cosine_similarity\n",
       "8810676        يهدني       يهدين           1.000000\n",
       "5834385        يهدين       يهدني           1.000000\n",
       "9393826        استرق       استقر           1.000000\n",
       "772862         استقر       استرق           1.000000\n",
       "7883127     ونجيناهم   ونجيناهما           0.964764\n",
       "2309240    وهديناهما    وهديناهم           0.964764\n",
       "3526202     وهديناهم   وهديناهما           0.964764\n",
       "12789327   ونجيناهما    ونجيناهم           0.964764\n",
       "4104634       أفأنتم     أفأمنتم           0.959403\n",
       "13613454     أفأمنتم      أفأنتم           0.959403\n",
       "7588411        تستفت      تستفتي           0.957427\n",
       "16420885   ولأدخلنهم  ولأدخلناهم           0.957427\n",
       "9885080   ولأدخلناهم   ولأدخلنهم           0.957427\n",
       "6678031       تستفتي       تستفت           0.957427\n",
       "10992786       اثنتا      اثنتان           0.956183"
      ]
     },
     "execution_count": 117,
     "metadata": {},
     "output_type": "execute_result"
    }
   ],
   "source": [
    "dfY.sort_values(by=['cosine_similarity'], ascending=False).head(15)"
   ]
  },
  {
   "cell_type": "code",
   "execution_count": 111,
   "id": "c9c86268",
   "metadata": {},
   "outputs": [
    {
     "data": {
      "text/html": [
       "<div>\n",
       "<style scoped>\n",
       "    .dataframe tbody tr th:only-of-type {\n",
       "        vertical-align: middle;\n",
       "    }\n",
       "\n",
       "    .dataframe tbody tr th {\n",
       "        vertical-align: top;\n",
       "    }\n",
       "\n",
       "    .dataframe thead th {\n",
       "        text-align: right;\n",
       "    }\n",
       "</style>\n",
       "<table border=\"1\" class=\"dataframe\">\n",
       "  <thead>\n",
       "    <tr style=\"text-align: right;\">\n",
       "      <th></th>\n",
       "      <th>lemma_1</th>\n",
       "      <th>lemma_2</th>\n",
       "      <th>cosine_similarity</th>\n",
       "    </tr>\n",
       "  </thead>\n",
       "  <tbody>\n",
       "    <tr>\n",
       "      <th>17454111</th>\n",
       "      <td>إنسان</td>\n",
       "      <td>إنس</td>\n",
       "      <td>0.872872</td>\n",
       "    </tr>\n",
       "    <tr>\n",
       "      <th>17452581</th>\n",
       "      <td>إنسان</td>\n",
       "      <td>ناس</td>\n",
       "      <td>0.872872</td>\n",
       "    </tr>\n",
       "    <tr>\n",
       "      <th>17455334</th>\n",
       "      <td>إنسان</td>\n",
       "      <td>إحسان</td>\n",
       "      <td>0.845154</td>\n",
       "    </tr>\n",
       "    <tr>\n",
       "      <th>17454216</th>\n",
       "      <td>إنسان</td>\n",
       "      <td>ننس</td>\n",
       "      <td>0.845154</td>\n",
       "    </tr>\n",
       "    <tr>\n",
       "      <th>17453607</th>\n",
       "      <td>إنسان</td>\n",
       "      <td>ننساكم</td>\n",
       "      <td>0.801784</td>\n",
       "    </tr>\n",
       "    <tr>\n",
       "      <th>...</th>\n",
       "      <td>...</td>\n",
       "      <td>...</td>\n",
       "      <td>...</td>\n",
       "    </tr>\n",
       "    <tr>\n",
       "      <th>17453698</th>\n",
       "      <td>إنسان</td>\n",
       "      <td>تستفتي</td>\n",
       "      <td>0.109109</td>\n",
       "    </tr>\n",
       "    <tr>\n",
       "      <th>17454002</th>\n",
       "      <td>إنسان</td>\n",
       "      <td>أعمامكم</td>\n",
       "      <td>0.104828</td>\n",
       "    </tr>\n",
       "    <tr>\n",
       "      <th>17454547</th>\n",
       "      <td>إنسان</td>\n",
       "      <td>فليستعفف</td>\n",
       "      <td>0.101015</td>\n",
       "    </tr>\n",
       "    <tr>\n",
       "      <th>17454007</th>\n",
       "      <td>إنسان</td>\n",
       "      <td>فاتخذتموهم</td>\n",
       "      <td>0.101015</td>\n",
       "    </tr>\n",
       "    <tr>\n",
       "      <th>17453848</th>\n",
       "      <td>إنسان</td>\n",
       "      <td>اعتزلتموهم</td>\n",
       "      <td>0.101015</td>\n",
       "    </tr>\n",
       "  </tbody>\n",
       "</table>\n",
       "<p>3376 rows × 3 columns</p>\n",
       "</div>"
      ],
      "text/plain": [
       "         lemma_1     lemma_2  cosine_similarity\n",
       "17454111   إنسان         إنس           0.872872\n",
       "17452581   إنسان         ناس           0.872872\n",
       "17455334   إنسان       إحسان           0.845154\n",
       "17454216   إنسان         ننس           0.845154\n",
       "17453607   إنسان      ننساكم           0.801784\n",
       "...          ...         ...                ...\n",
       "17453698   إنسان      تستفتي           0.109109\n",
       "17454002   إنسان     أعمامكم           0.104828\n",
       "17454547   إنسان    فليستعفف           0.101015\n",
       "17454007   إنسان  فاتخذتموهم           0.101015\n",
       "17453848   إنسان  اعتزلتموهم           0.101015\n",
       "\n",
       "[3376 rows x 3 columns]"
      ]
     },
     "execution_count": 111,
     "metadata": {},
     "output_type": "execute_result"
    }
   ],
   "source": [
    "df[df['lemma_1'] == 'إنسان'].sort_values(by=['cosine_similarity'], ascending=False)"
   ]
  },
  {
   "cell_type": "code",
   "execution_count": 119,
   "id": "0a5e39fc",
   "metadata": {},
   "outputs": [
    {
     "data": {
      "text/html": [
       "<div>\n",
       "<style scoped>\n",
       "    .dataframe tbody tr th:only-of-type {\n",
       "        vertical-align: middle;\n",
       "    }\n",
       "\n",
       "    .dataframe tbody tr th {\n",
       "        vertical-align: top;\n",
       "    }\n",
       "\n",
       "    .dataframe thead th {\n",
       "        text-align: right;\n",
       "    }\n",
       "</style>\n",
       "<table border=\"1\" class=\"dataframe\">\n",
       "  <thead>\n",
       "    <tr style=\"text-align: right;\">\n",
       "      <th></th>\n",
       "      <th>lemma_1</th>\n",
       "      <th>lemma_2</th>\n",
       "      <th>cosine_similarity</th>\n",
       "    </tr>\n",
       "  </thead>\n",
       "  <tbody>\n",
       "    <tr>\n",
       "      <th>17454111</th>\n",
       "      <td>إنسان</td>\n",
       "      <td>إنس</td>\n",
       "      <td>0.872872</td>\n",
       "    </tr>\n",
       "    <tr>\n",
       "      <th>17452630</th>\n",
       "      <td>إنسان</td>\n",
       "      <td>إن</td>\n",
       "      <td>0.801784</td>\n",
       "    </tr>\n",
       "    <tr>\n",
       "      <th>17454620</th>\n",
       "      <td>إنسان</td>\n",
       "      <td>إناء</td>\n",
       "      <td>0.755929</td>\n",
       "    </tr>\n",
       "    <tr>\n",
       "      <th>17455031</th>\n",
       "      <td>إنسان</td>\n",
       "      <td>إناث</td>\n",
       "      <td>0.755929</td>\n",
       "    </tr>\n",
       "    <tr>\n",
       "      <th>17455492</th>\n",
       "      <td>إنسان</td>\n",
       "      <td>إنسي</td>\n",
       "      <td>0.755929</td>\n",
       "    </tr>\n",
       "    <tr>\n",
       "      <th>17452591</th>\n",
       "      <td>إنسان</td>\n",
       "      <td>إنفاق</td>\n",
       "      <td>0.676123</td>\n",
       "    </tr>\n",
       "    <tr>\n",
       "      <th>17453353</th>\n",
       "      <td>إنسان</td>\n",
       "      <td>إنشاء</td>\n",
       "      <td>0.676123</td>\n",
       "    </tr>\n",
       "    <tr>\n",
       "      <th>17454435</th>\n",
       "      <td>إنسان</td>\n",
       "      <td>إنجيل</td>\n",
       "      <td>0.507093</td>\n",
       "    </tr>\n",
       "  </tbody>\n",
       "</table>\n",
       "</div>"
      ],
      "text/plain": [
       "         lemma_1 lemma_2  cosine_similarity\n",
       "17454111   إنسان     إنس           0.872872\n",
       "17452630   إنسان      إن           0.801784\n",
       "17454620   إنسان    إناء           0.755929\n",
       "17455031   إنسان    إناث           0.755929\n",
       "17455492   إنسان    إنسي           0.755929\n",
       "17452591   إنسان   إنفاق           0.676123\n",
       "17453353   إنسان   إنشاء           0.676123\n",
       "17454435   إنسان   إنجيل           0.507093"
      ]
     },
     "execution_count": 119,
     "metadata": {},
     "output_type": "execute_result"
    }
   ],
   "source": [
    "dfX[dfX['lemma_1'] == 'إنسان'].sort_values(by=['cosine_similarity'], ascending=False)"
   ]
  },
  {
   "cell_type": "code",
   "execution_count": 120,
   "id": "3025cee7",
   "metadata": {},
   "outputs": [
    {
     "data": {
      "text/html": [
       "<div>\n",
       "<style scoped>\n",
       "    .dataframe tbody tr th:only-of-type {\n",
       "        vertical-align: middle;\n",
       "    }\n",
       "\n",
       "    .dataframe tbody tr th {\n",
       "        vertical-align: top;\n",
       "    }\n",
       "\n",
       "    .dataframe thead th {\n",
       "        text-align: right;\n",
       "    }\n",
       "</style>\n",
       "<table border=\"1\" class=\"dataframe\">\n",
       "  <thead>\n",
       "    <tr style=\"text-align: right;\">\n",
       "      <th></th>\n",
       "      <th>lemma_1</th>\n",
       "      <th>lemma_2</th>\n",
       "      <th>cosine_similarity</th>\n",
       "    </tr>\n",
       "  </thead>\n",
       "  <tbody>\n",
       "    <tr>\n",
       "      <th>17454111</th>\n",
       "      <td>إنسان</td>\n",
       "      <td>إنس</td>\n",
       "      <td>0.872872</td>\n",
       "    </tr>\n",
       "    <tr>\n",
       "      <th>17455492</th>\n",
       "      <td>إنسان</td>\n",
       "      <td>إنسي</td>\n",
       "      <td>0.755929</td>\n",
       "    </tr>\n",
       "  </tbody>\n",
       "</table>\n",
       "</div>"
      ],
      "text/plain": [
       "         lemma_1 lemma_2  cosine_similarity\n",
       "17454111   إنسان     إنس           0.872872\n",
       "17455492   إنسان    إنسي           0.755929"
      ]
     },
     "execution_count": 120,
     "metadata": {},
     "output_type": "execute_result"
    }
   ],
   "source": [
    "dfY[dfY['lemma_1'] == 'إنسان'].sort_values(by=['cosine_similarity'], ascending=False)"
   ]
  }
 ],
 "metadata": {
  "kernelspec": {
   "display_name": "Python 3 (ipykernel)",
   "language": "python",
   "name": "python3"
  },
  "language_info": {
   "codemirror_mode": {
    "name": "ipython",
    "version": 3
   },
   "file_extension": ".py",
   "mimetype": "text/x-python",
   "name": "python",
   "nbconvert_exporter": "python",
   "pygments_lexer": "ipython3",
   "version": "3.8.9"
  }
 },
 "nbformat": 4,
 "nbformat_minor": 5
}
