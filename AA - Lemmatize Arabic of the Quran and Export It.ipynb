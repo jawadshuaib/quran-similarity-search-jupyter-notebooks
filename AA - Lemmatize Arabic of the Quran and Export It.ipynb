{
 "cells": [
  {
   "cell_type": "markdown",
   "id": "bd76ef46",
   "metadata": {},
   "source": [
    "# Use Farasa to Lemmatize Arabic of the Qur'an\n",
    "The returned results constitute root words - which will make comparison more useful.\n",
    "\n",
    "Check out the Farasa website here for more details: https://farasa.qcri.org/lemmatization/"
   ]
  },
  {
   "cell_type": "code",
   "execution_count": 2,
   "id": "ea74501d",
   "metadata": {},
   "outputs": [],
   "source": [
    "from farasa.stemmer import FarasaStemmer"
   ]
  },
  {
   "cell_type": "markdown",
   "id": "db680605",
   "metadata": {},
   "source": [
    "Creator of FarasaStemmer python library suggests using interactive mode when dealing with small texts (for example in a loop). More information can be found here: https://github.com/MagedSaeed/farasapy"
   ]
  },
  {
   "cell_type": "code",
   "execution_count": 3,
   "id": "e932bfae",
   "metadata": {
    "scrolled": true
   },
   "outputs": [
    {
     "name": "stderr",
     "output_type": "stream",
     "text": [
      "[2022-09-05 10:54:42,733 - farasapy_logger - WARNING]: Be careful with large lines as they may break on interactive mode. You may switch to Standalone mode for such cases.\n"
     ]
    }
   ],
   "source": [
    "stemmer = FarasaStemmer (interactive=True)"
   ]
  },
  {
   "cell_type": "code",
   "execution_count": 50,
   "id": "1d052aba",
   "metadata": {},
   "outputs": [],
   "source": [
    "# [2:282] longest aya in the Quran\n",
    "sample = 'يا أيها الذين آمنوا إذا تداينتم بدين إلى أجل مسمى فاكتبوه وليكتب بينكم كاتب بالعدل ولا يأب كاتب أن يكتب كما علمه الله فليكتب وليملل الذي عليه الحق وليتق الله ربه ولا يبخس منه شيئا فإن كان الذي عليه الحق سفيها أو ضعيفا أو لا يستطيع أن يمل هو فليملل وليه بالعدل واستشهدوا شهيدين من رجالكم فإن لم يكونا رجلين فرجل وامرأتان ممن ترضون من الشهداء أن تضل إحداهما فتذكر إحداهما الأخرى ولا يأب الشهداء إذا ما دعوا ولا تسأموا أن تكتبوه صغيرا أو كبيرا إلى أجله ذلكم أقسط عند الله وأقوم للشهادة وأدنى ألا ترتابوا إلا أن تكون تجارة حاضرة تديرونها بينكم فليس عليكم جناح ألا تكتبوها وأشهدوا إذا تبايعتم ولا يضار كاتب ولا شهيد وإن تفعلوا فإنه فسوق بكم واتقوا الله ويعلمكم الله والله بكل شيء عليم'"
   ]
  },
  {
   "cell_type": "code",
   "execution_count": 62,
   "id": "2a8dedd0",
   "metadata": {},
   "outputs": [],
   "source": [
    "# [96:4]\n",
    "sample = 'ٱلَّذِى عَلَّمَ بِٱلْقَلَمِ'"
   ]
  },
  {
   "cell_type": "code",
   "execution_count": 58,
   "id": "3236f4db",
   "metadata": {},
   "outputs": [
    {
     "data": {
      "text/plain": [
       "'الذي علم قلم'"
      ]
     },
     "execution_count": 58,
     "metadata": {},
     "output_type": "execute_result"
    }
   ],
   "source": [
    "stemmed_text = stemmer.stem (sample)\n",
    "stemmed_text"
   ]
  },
  {
   "cell_type": "markdown",
   "id": "6e813f43",
   "metadata": {},
   "source": [
    "## Arabic Stopwords\n",
    "nltk library of stopwords is smaller but it would be faster to apply it"
   ]
  },
  {
   "cell_type": "code",
   "execution_count": 14,
   "id": "a838dd44",
   "metadata": {},
   "outputs": [
    {
     "name": "stderr",
     "output_type": "stream",
     "text": [
      "[nltk_data] Downloading package stopwords to\n",
      "[nltk_data]     /Users/jawadshuaib/nltk_data...\n",
      "[nltk_data]   Package stopwords is already up-to-date!\n"
     ]
    },
    {
     "data": {
      "text/plain": [
       "True"
      ]
     },
     "execution_count": 14,
     "metadata": {},
     "output_type": "execute_result"
    }
   ],
   "source": [
    "import nltk\n",
    "from nltk.corpus import stopwords\n",
    "nltk.download('stopwords')"
   ]
  },
  {
   "cell_type": "code",
   "execution_count": 17,
   "id": "309714e3",
   "metadata": {},
   "outputs": [
    {
     "data": {
      "text/plain": [
       "701"
      ]
     },
     "execution_count": 17,
     "metadata": {},
     "output_type": "execute_result"
    }
   ],
   "source": [
    "nltk_arab_stopwords = set(nltk.corpus.stopwords.words(\"arabic\"))\n",
    "len(nltk_arab_stopwords)"
   ]
  },
  {
   "cell_type": "code",
   "execution_count": 84,
   "id": "3bf189e5",
   "metadata": {
    "scrolled": true
   },
   "outputs": [
    {
     "data": {
      "text/plain": [
       "{'ء',\n",
       " 'ءَ',\n",
       " 'آ',\n",
       " 'آب',\n",
       " 'آذار',\n",
       " 'آض',\n",
       " 'آمينَ',\n",
       " 'آناء',\n",
       " 'آنفا',\n",
       " 'آه',\n",
       " 'آها',\n",
       " 'آهاً',\n",
       " 'آهٍ',\n",
       " 'آهِ',\n",
       " 'آي',\n",
       " 'أ',\n",
       " 'أبدا',\n",
       " 'أبريل',\n",
       " 'أبو',\n",
       " 'أبٌ',\n",
       " 'أجل',\n",
       " 'أجمع',\n",
       " 'أحد',\n",
       " 'أخبر',\n",
       " 'أخذ',\n",
       " 'أخو',\n",
       " 'أخٌ',\n",
       " 'أربع',\n",
       " 'أربعاء',\n",
       " 'أربعة',\n",
       " 'أربعمئة',\n",
       " 'أربعمائة',\n",
       " 'أرى',\n",
       " 'أسكن',\n",
       " 'أصبح',\n",
       " 'أصلا',\n",
       " 'أضحى',\n",
       " 'أطعم',\n",
       " 'أعطى',\n",
       " 'أعلم',\n",
       " 'أغسطس',\n",
       " 'أف',\n",
       " 'أفريل',\n",
       " 'أفعل به',\n",
       " 'أفٍّ',\n",
       " 'أقبل',\n",
       " 'أقل',\n",
       " 'أكتوبر',\n",
       " 'أكثر',\n",
       " 'أل',\n",
       " 'ألا',\n",
       " 'ألف',\n",
       " 'ألفى',\n",
       " 'أم',\n",
       " 'أما',\n",
       " 'أمام',\n",
       " 'أمامك',\n",
       " 'أمامكَ',\n",
       " 'أمد',\n",
       " 'أمس',\n",
       " 'أمسى',\n",
       " 'أمّا',\n",
       " 'أن',\n",
       " 'أنا',\n",
       " 'أنبأ',\n",
       " 'أنت',\n",
       " 'أنتم',\n",
       " 'أنتما',\n",
       " 'أنتن',\n",
       " 'أنتِ',\n",
       " 'أنشأ',\n",
       " 'أنى',\n",
       " 'أنًّ',\n",
       " 'أنّى',\n",
       " 'أهلا',\n",
       " 'أو',\n",
       " 'أوت',\n",
       " 'أوشك',\n",
       " 'أول',\n",
       " 'أولئك',\n",
       " 'أولاء',\n",
       " 'أولالك',\n",
       " 'أوه',\n",
       " 'أوّهْ',\n",
       " 'أى',\n",
       " 'أي',\n",
       " 'أيا',\n",
       " 'أيار',\n",
       " 'أيضا',\n",
       " 'أيلول',\n",
       " 'أين',\n",
       " 'أينما',\n",
       " 'أيها',\n",
       " 'أيّ',\n",
       " 'أيّان',\n",
       " 'أُفٍّ',\n",
       " 'ؤ',\n",
       " 'إحدى',\n",
       " 'إذ',\n",
       " 'إذا',\n",
       " 'إذاً',\n",
       " 'إذما',\n",
       " 'إذن',\n",
       " 'إزاء',\n",
       " 'إلا',\n",
       " 'إلى',\n",
       " 'إليك',\n",
       " 'إليكم',\n",
       " 'إليكما',\n",
       " 'إليكن',\n",
       " 'إليكنّ',\n",
       " 'إليكَ',\n",
       " 'إلَيْكَ',\n",
       " 'إلّا',\n",
       " 'إما',\n",
       " 'إمّا',\n",
       " 'إن',\n",
       " 'إنا',\n",
       " 'إنما',\n",
       " 'إنه',\n",
       " 'إنَّ',\n",
       " 'إى',\n",
       " 'إي',\n",
       " 'إياك',\n",
       " 'إياكم',\n",
       " 'إياكما',\n",
       " 'إياكن',\n",
       " 'إيانا',\n",
       " 'إياه',\n",
       " 'إياها',\n",
       " 'إياهم',\n",
       " 'إياهما',\n",
       " 'إياهن',\n",
       " 'إياي',\n",
       " 'إيه',\n",
       " 'إيهٍ',\n",
       " 'ئ',\n",
       " 'ا',\n",
       " 'ابتدأ',\n",
       " 'اتخذ',\n",
       " 'اثنا',\n",
       " 'اثنان',\n",
       " 'اثني',\n",
       " 'اثنين',\n",
       " 'اخلولق',\n",
       " 'اربعون',\n",
       " 'اربعين',\n",
       " 'ارتدّ',\n",
       " 'استحال',\n",
       " 'الآن',\n",
       " 'الألاء',\n",
       " 'الألى',\n",
       " 'التي',\n",
       " 'الذي',\n",
       " 'الذين',\n",
       " 'اللائي',\n",
       " 'اللاتي',\n",
       " 'اللتان',\n",
       " 'اللتيا',\n",
       " 'اللتين',\n",
       " 'اللذان',\n",
       " 'اللذين',\n",
       " 'اللواتي',\n",
       " 'انبرى',\n",
       " 'انقلب',\n",
       " 'ب',\n",
       " 'بؤسا',\n",
       " 'بئس',\n",
       " 'باء',\n",
       " 'بات',\n",
       " 'بخ',\n",
       " 'بخٍ',\n",
       " 'بس',\n",
       " 'بسّ',\n",
       " 'بضع',\n",
       " 'بطآن',\n",
       " 'بعد',\n",
       " 'بعدا',\n",
       " 'بعض',\n",
       " 'بغتة',\n",
       " 'بك',\n",
       " 'بكم',\n",
       " 'بكما',\n",
       " 'بكن',\n",
       " 'بل',\n",
       " 'بلى',\n",
       " 'بما',\n",
       " 'بماذا',\n",
       " 'بمن',\n",
       " 'بنا',\n",
       " 'به',\n",
       " 'بها',\n",
       " 'بهم',\n",
       " 'بهما',\n",
       " 'بهن',\n",
       " 'بي',\n",
       " 'بيد',\n",
       " 'بين',\n",
       " 'بَسْ',\n",
       " 'بَلْهَ',\n",
       " 'ة',\n",
       " 'ت',\n",
       " 'تاء',\n",
       " 'تارة',\n",
       " 'تاسع',\n",
       " 'تانِ',\n",
       " 'تانِك',\n",
       " 'تبدّل',\n",
       " 'تجاه',\n",
       " 'تحت',\n",
       " 'تحوّل',\n",
       " 'تخذ',\n",
       " 'ترك',\n",
       " 'تسع',\n",
       " 'تسعة',\n",
       " 'تسعمئة',\n",
       " 'تسعمائة',\n",
       " 'تسعون',\n",
       " 'تسعين',\n",
       " 'تشرين',\n",
       " 'تعسا',\n",
       " 'تعلَّم',\n",
       " 'تفعلان',\n",
       " 'تفعلون',\n",
       " 'تفعلين',\n",
       " 'تلقاء',\n",
       " 'تلك',\n",
       " 'تلكم',\n",
       " 'تلكما',\n",
       " 'تموز',\n",
       " 'ته',\n",
       " 'تي',\n",
       " 'تين',\n",
       " 'تينك',\n",
       " 'تَيْنِ',\n",
       " 'تِه',\n",
       " 'تِي',\n",
       " 'ث',\n",
       " 'ثاء',\n",
       " 'ثالث',\n",
       " 'ثامن',\n",
       " 'ثان',\n",
       " 'ثاني',\n",
       " 'ثلاث',\n",
       " 'ثلاثاء',\n",
       " 'ثلاثة',\n",
       " 'ثلاثمئة',\n",
       " 'ثلاثمائة',\n",
       " 'ثلاثون',\n",
       " 'ثلاثين',\n",
       " 'ثم',\n",
       " 'ثمان',\n",
       " 'ثمانمئة',\n",
       " 'ثمانون',\n",
       " 'ثماني',\n",
       " 'ثمانية',\n",
       " 'ثمانين',\n",
       " 'ثمة',\n",
       " 'ثمنمئة',\n",
       " 'ثمَّ',\n",
       " 'ثمّ',\n",
       " 'ثمّة',\n",
       " 'ج',\n",
       " 'جانفي',\n",
       " 'جعل',\n",
       " 'جلل',\n",
       " 'جمعة',\n",
       " 'جميع',\n",
       " 'جنيه',\n",
       " 'جوان',\n",
       " 'جويلية',\n",
       " 'جير',\n",
       " 'جيم',\n",
       " 'ح',\n",
       " 'حاء',\n",
       " 'حادي',\n",
       " 'حار',\n",
       " 'حاشا',\n",
       " 'حاي',\n",
       " 'حبذا',\n",
       " 'حبيب',\n",
       " 'حتى',\n",
       " 'حجا',\n",
       " 'حدَث',\n",
       " 'حرى',\n",
       " 'حزيران',\n",
       " 'حسب',\n",
       " 'حقا',\n",
       " 'حمدا',\n",
       " 'حمو',\n",
       " 'حمٌ',\n",
       " 'حيث',\n",
       " 'حيثما',\n",
       " 'حين',\n",
       " 'حيَّ',\n",
       " 'حَذارِ',\n",
       " 'خ',\n",
       " 'خاء',\n",
       " 'خاصة',\n",
       " 'خال',\n",
       " 'خامس',\n",
       " 'خبَّر',\n",
       " 'خلا',\n",
       " 'خلافا',\n",
       " 'خلف',\n",
       " 'خمس',\n",
       " 'خمسة',\n",
       " 'خمسمئة',\n",
       " 'خمسمائة',\n",
       " 'خمسون',\n",
       " 'خمسين',\n",
       " 'خميس',\n",
       " 'د',\n",
       " 'دال',\n",
       " 'درهم',\n",
       " 'درى',\n",
       " 'دواليك',\n",
       " 'دولار',\n",
       " 'دون',\n",
       " 'دونك',\n",
       " 'ديسمبر',\n",
       " 'دينار',\n",
       " 'ذ',\n",
       " 'ذا',\n",
       " 'ذات',\n",
       " 'ذاك',\n",
       " 'ذال',\n",
       " 'ذان',\n",
       " 'ذانك',\n",
       " 'ذانِ',\n",
       " 'ذلك',\n",
       " 'ذلكم',\n",
       " 'ذلكما',\n",
       " 'ذلكن',\n",
       " 'ذه',\n",
       " 'ذهب',\n",
       " 'ذو',\n",
       " 'ذوا',\n",
       " 'ذواتا',\n",
       " 'ذواتي',\n",
       " 'ذي',\n",
       " 'ذيت',\n",
       " 'ذين',\n",
       " 'ذينك',\n",
       " 'ذَيْنِ',\n",
       " 'ذِه',\n",
       " 'ذِي',\n",
       " 'ر',\n",
       " 'رأى',\n",
       " 'راء',\n",
       " 'رابع',\n",
       " 'راح',\n",
       " 'رجع',\n",
       " 'رزق',\n",
       " 'رويدك',\n",
       " 'ريال',\n",
       " 'ريث',\n",
       " 'رُبَّ',\n",
       " 'ز',\n",
       " 'زاي',\n",
       " 'زعم',\n",
       " 'زود',\n",
       " 'س',\n",
       " 'ساء',\n",
       " 'سابع',\n",
       " 'سادس',\n",
       " 'سبت',\n",
       " 'سبتمبر',\n",
       " 'سبحان',\n",
       " 'سبع',\n",
       " 'سبعة',\n",
       " 'سبعمئة',\n",
       " 'سبعمائة',\n",
       " 'سبعون',\n",
       " 'سبعين',\n",
       " 'ست',\n",
       " 'ستة',\n",
       " 'ستمئة',\n",
       " 'ستمائة',\n",
       " 'ستون',\n",
       " 'ستين',\n",
       " 'سحقا',\n",
       " 'سرا',\n",
       " 'سرعان',\n",
       " 'سقى',\n",
       " 'سمعا',\n",
       " 'سنتيم',\n",
       " 'سوف',\n",
       " 'سوى',\n",
       " 'سين',\n",
       " 'ش',\n",
       " 'شباط',\n",
       " 'شبه',\n",
       " 'شتان',\n",
       " 'شتانَ',\n",
       " 'شرع',\n",
       " 'شمال',\n",
       " 'شيكل',\n",
       " 'شين',\n",
       " 'شَتَّانَ',\n",
       " 'ص',\n",
       " 'صاد',\n",
       " 'صار',\n",
       " 'صباح',\n",
       " 'صبر',\n",
       " 'صبرا',\n",
       " 'صدقا',\n",
       " 'صراحة',\n",
       " 'صهٍ',\n",
       " 'صهْ',\n",
       " 'ض',\n",
       " 'ضاد',\n",
       " 'ضحوة',\n",
       " 'ط',\n",
       " 'طاء',\n",
       " 'طاق',\n",
       " 'طالما',\n",
       " 'طرا',\n",
       " 'طفق',\n",
       " 'طَق',\n",
       " 'ظ',\n",
       " 'ظاء',\n",
       " 'ظلّ',\n",
       " 'ظنَّ',\n",
       " 'ع',\n",
       " 'عاد',\n",
       " 'عاشر',\n",
       " 'عامة',\n",
       " 'عجبا',\n",
       " 'عدا',\n",
       " 'عدَّ',\n",
       " 'عسى',\n",
       " 'عشر',\n",
       " 'عشرة',\n",
       " 'عشرون',\n",
       " 'عشرين',\n",
       " 'عل',\n",
       " 'علق',\n",
       " 'علم',\n",
       " 'على',\n",
       " 'عليك',\n",
       " 'عليه',\n",
       " 'علًّ',\n",
       " 'عما',\n",
       " 'عن',\n",
       " 'عند',\n",
       " 'عوض',\n",
       " 'عيانا',\n",
       " 'عين',\n",
       " 'عَدَسْ',\n",
       " 'غ',\n",
       " 'غادر',\n",
       " 'غالبا',\n",
       " 'غدا',\n",
       " 'غداة',\n",
       " 'غير',\n",
       " 'غين',\n",
       " 'ف',\n",
       " 'فإذا',\n",
       " 'فإن',\n",
       " 'فاء',\n",
       " 'فبراير',\n",
       " 'فرادى',\n",
       " 'فضلا',\n",
       " 'فلا',\n",
       " 'فلان',\n",
       " 'فلس',\n",
       " 'فمن',\n",
       " 'فو',\n",
       " 'فوق',\n",
       " 'في',\n",
       " 'فيفري',\n",
       " 'فيم',\n",
       " 'فيما',\n",
       " 'فيه',\n",
       " 'فيها',\n",
       " 'ق',\n",
       " 'قاطبة',\n",
       " 'قاف',\n",
       " 'قام',\n",
       " 'قبل',\n",
       " 'قد',\n",
       " 'قرش',\n",
       " 'قطّ',\n",
       " 'قلما',\n",
       " 'ك',\n",
       " 'كأن',\n",
       " 'كأنما',\n",
       " 'كأنّ',\n",
       " 'كأي',\n",
       " 'كأين',\n",
       " 'كأيّ',\n",
       " 'كأيّن',\n",
       " 'كاد',\n",
       " 'كاف',\n",
       " 'كان',\n",
       " 'كانون',\n",
       " 'كثيرا',\n",
       " 'كذا',\n",
       " 'كذلك',\n",
       " 'كرب',\n",
       " 'كسا',\n",
       " 'كل',\n",
       " 'كلا',\n",
       " 'كلاهما',\n",
       " 'كلتا',\n",
       " 'كلما',\n",
       " 'كليكما',\n",
       " 'كليهما',\n",
       " 'كلَّا',\n",
       " 'كلّما',\n",
       " 'كم',\n",
       " 'كما',\n",
       " 'كن',\n",
       " 'كى',\n",
       " 'كي',\n",
       " 'كيت',\n",
       " 'كيف',\n",
       " 'كيفما',\n",
       " 'كِخ',\n",
       " 'ل',\n",
       " 'لئن',\n",
       " 'لا',\n",
       " 'لا سيما',\n",
       " 'لات',\n",
       " 'لاسيما',\n",
       " 'لام',\n",
       " 'لبيك',\n",
       " 'لدن',\n",
       " 'لدى',\n",
       " 'لست',\n",
       " 'لستم',\n",
       " 'لستما',\n",
       " 'لستن',\n",
       " 'لسن',\n",
       " 'لسنا',\n",
       " 'لعل',\n",
       " 'لعلَّ',\n",
       " 'لعمر',\n",
       " 'لك',\n",
       " 'لكم',\n",
       " 'لكما',\n",
       " 'لكن',\n",
       " 'لكنما',\n",
       " 'لكنَّ',\n",
       " 'لكي',\n",
       " 'لكيلا',\n",
       " 'لم',\n",
       " 'لما',\n",
       " 'لمّا',\n",
       " 'لن',\n",
       " 'لنا',\n",
       " 'له',\n",
       " 'لها',\n",
       " 'لهم',\n",
       " 'لهما',\n",
       " 'لهن',\n",
       " 'لو',\n",
       " 'لولا',\n",
       " 'لوما',\n",
       " 'لي',\n",
       " 'ليت',\n",
       " 'ليرة',\n",
       " 'ليس',\n",
       " 'ليسا',\n",
       " 'ليست',\n",
       " 'ليستا',\n",
       " 'ليسوا',\n",
       " 'م',\n",
       " 'مئة',\n",
       " 'مئتان',\n",
       " 'ما',\n",
       " 'ما أفعله',\n",
       " 'ما انفك',\n",
       " 'ما برح',\n",
       " 'مائة',\n",
       " 'مادام',\n",
       " 'ماذا',\n",
       " 'مارس',\n",
       " 'مازال',\n",
       " 'مافتئ',\n",
       " 'ماي',\n",
       " 'مايو',\n",
       " 'متى',\n",
       " 'مثل',\n",
       " 'مذ',\n",
       " 'مرّة',\n",
       " 'مساء',\n",
       " 'مع',\n",
       " 'معاذ',\n",
       " 'مكانكم',\n",
       " 'مكانكما',\n",
       " 'مكانكنّ',\n",
       " 'مكانَك',\n",
       " 'مليم',\n",
       " 'مما',\n",
       " 'ممن',\n",
       " 'من',\n",
       " 'منذ',\n",
       " 'منه',\n",
       " 'منها',\n",
       " 'مه',\n",
       " 'مهما',\n",
       " 'ميم',\n",
       " 'ن',\n",
       " 'نا',\n",
       " 'نبَّا',\n",
       " 'نحن',\n",
       " 'نحو',\n",
       " 'نعم',\n",
       " 'نفس',\n",
       " 'نوفمبر',\n",
       " 'نون',\n",
       " 'نيسان',\n",
       " 'نيف',\n",
       " 'نَخْ',\n",
       " 'نَّ',\n",
       " 'ه',\n",
       " 'هؤلاء',\n",
       " 'ها',\n",
       " 'هاء',\n",
       " 'هاتان',\n",
       " 'هاته',\n",
       " 'هاتي',\n",
       " 'هاتين',\n",
       " 'هاك',\n",
       " 'هاكَ',\n",
       " 'هاهنا',\n",
       " 'هبّ',\n",
       " 'هذا',\n",
       " 'هذان',\n",
       " 'هذه',\n",
       " 'هذي',\n",
       " 'هذين',\n",
       " 'هكذا',\n",
       " 'هل',\n",
       " 'هلا',\n",
       " 'هللة',\n",
       " 'هلم',\n",
       " 'هلّا',\n",
       " 'هم',\n",
       " 'هما',\n",
       " 'همزة',\n",
       " 'هن',\n",
       " 'هنا',\n",
       " 'هناك',\n",
       " 'هنالك',\n",
       " 'هو',\n",
       " 'هي',\n",
       " 'هيا',\n",
       " 'هيت',\n",
       " 'هيهات',\n",
       " 'هيّا',\n",
       " 'هَؤلاء',\n",
       " 'هَاتانِ',\n",
       " 'هَاتَيْنِ',\n",
       " 'هَاتِه',\n",
       " 'هَاتِي',\n",
       " 'هَجْ',\n",
       " 'هَذا',\n",
       " 'هَذانِ',\n",
       " 'هَذَيْنِ',\n",
       " 'هَذِه',\n",
       " 'هَذِي',\n",
       " 'هَيْهات',\n",
       " 'و',\n",
       " 'وإذ',\n",
       " 'وإذا',\n",
       " 'وإن',\n",
       " 'وا',\n",
       " 'واحد',\n",
       " 'والذي',\n",
       " 'والذين',\n",
       " 'واهاً',\n",
       " 'واو',\n",
       " 'وجد',\n",
       " 'وراءَك',\n",
       " 'ورد',\n",
       " 'ولا',\n",
       " 'ولكن',\n",
       " 'ولو',\n",
       " 'وما',\n",
       " 'ومن',\n",
       " 'وهب',\n",
       " 'وهو',\n",
       " 'وَيْ',\n",
       " 'وُشْكَانَ',\n",
       " 'ى',\n",
       " 'ي',\n",
       " 'يا',\n",
       " 'ياء',\n",
       " 'يفعلان',\n",
       " 'يفعلون',\n",
       " 'يمين',\n",
       " 'ين',\n",
       " 'يناير',\n",
       " 'يوان',\n",
       " 'يورو',\n",
       " 'يوليو',\n",
       " 'يونيو',\n",
       " 'ّأيّان'}"
      ]
     },
     "execution_count": 84,
     "metadata": {},
     "output_type": "execute_result"
    }
   ],
   "source": [
    "nltk_arab_stopwords"
   ]
  },
  {
   "cell_type": "code",
   "execution_count": 18,
   "id": "73ce9ec7",
   "metadata": {},
   "outputs": [],
   "source": [
    "import arabicstopwords.arabicstopwords as stp"
   ]
  },
  {
   "cell_type": "code",
   "execution_count": 26,
   "id": "2fbdeb47",
   "metadata": {},
   "outputs": [],
   "source": [
    "stp_arab_stopwords = set (stp.stopwords_list())"
   ]
  },
  {
   "cell_type": "code",
   "execution_count": 27,
   "id": "d92afa40",
   "metadata": {},
   "outputs": [
    {
     "data": {
      "text/plain": [
       "13629"
      ]
     },
     "execution_count": 27,
     "metadata": {},
     "output_type": "execute_result"
    }
   ],
   "source": [
    "len(stp_arab_stopwords)"
   ]
  },
  {
   "cell_type": "markdown",
   "id": "2ff74b6f",
   "metadata": {},
   "source": [
    "## Methods for removing stop words"
   ]
  },
  {
   "cell_type": "code",
   "execution_count": 41,
   "id": "ad80e8b8",
   "metadata": {},
   "outputs": [],
   "source": [
    "from nltk.tokenize import word_tokenize"
   ]
  },
  {
   "cell_type": "code",
   "execution_count": 93,
   "id": "f64aa25c",
   "metadata": {},
   "outputs": [],
   "source": [
    "def nltk_remove_stop_words (text, tokenizeIt=False):    \n",
    "    if (tokenizeIt):\n",
    "        text = word_tokenize (text)    \n",
    "    return (\" \").join([word for word in text if not word in nltk_arab_stopwords])"
   ]
  },
  {
   "cell_type": "code",
   "execution_count": 94,
   "id": "966d4530",
   "metadata": {},
   "outputs": [],
   "source": [
    "def stp_remove_stop_words (text, tokenizeIt=False):    \n",
    "    if (tokenizeIt):\n",
    "        text = word_tokenize (text)\n",
    "    return (\" \").join([word for word in text if not word in stp_arab_stopwords])"
   ]
  },
  {
   "cell_type": "markdown",
   "id": "05ee7697",
   "metadata": {},
   "source": [
    "remove_stop_words () method decides which of the above stop words library to use based on whether they return any results or not"
   ]
  },
  {
   "cell_type": "code",
   "execution_count": 115,
   "id": "6209c7e1",
   "metadata": {},
   "outputs": [],
   "source": [
    "def remove_stop_words (text):\n",
    "    text_tokenized = word_tokenize (text)\n",
    "    \n",
    "    # If there are no words left after lemmatizing, then just return the text itself\n",
    "    if (len (text_tokenized) == 0):\n",
    "        return text\n",
    "    \n",
    "    # nltk is first choice\n",
    "    text_without_stop_words = nltk_remove_stop_words (text_tokenized)\n",
    "\n",
    "    # If after lemmatizing using nltk, there are no words left, then try using stp\n",
    "    if (len (text_without_stop_words) == 0):\n",
    "        \n",
    "        text_without_stop_words = stp_remove_stop_words (text_tokenized)\n",
    "        \n",
    "        # If stp also yields no words, then just return the text\n",
    "        if (len (text_without_stop_words) == 0):\n",
    "            return text\n",
    "        \n",
    "    return text_without_stop_words.strip()"
   ]
  },
  {
   "cell_type": "markdown",
   "id": "a67a4786",
   "metadata": {},
   "source": [
    "## Remove stop words from sample text"
   ]
  },
  {
   "cell_type": "markdown",
   "id": "f3a258ed",
   "metadata": {},
   "source": [
    "Tokenize every word in the sentence (i.e. turn it into a list)"
   ]
  },
  {
   "cell_type": "code",
   "execution_count": 44,
   "id": "6c244f6e",
   "metadata": {},
   "outputs": [
    {
     "data": {
      "text/plain": [
       "['سأل',\n",
       " 'عن',\n",
       " 'خمر',\n",
       " 'ميسر',\n",
       " 'قال',\n",
       " 'في',\n",
       " 'إثم',\n",
       " 'كبير',\n",
       " 'منفعة',\n",
       " 'ناس',\n",
       " 'إثم',\n",
       " 'أكبر',\n",
       " 'من',\n",
       " 'نفع',\n",
       " 'سأل',\n",
       " 'ماذا',\n",
       " 'أنفق',\n",
       " 'قال',\n",
       " 'عفو',\n",
       " 'ذلك',\n",
       " 'بين',\n",
       " 'الله',\n",
       " 'ل',\n",
       " 'آية',\n",
       " 'لعل',\n",
       " 'تتفكرون']"
      ]
     },
     "execution_count": 44,
     "metadata": {},
     "output_type": "execute_result"
    }
   ],
   "source": [
    "# Example\n",
    "nltk.word_tokenize(stemmed_text)"
   ]
  },
  {
   "cell_type": "code",
   "execution_count": 90,
   "id": "afe842f0",
   "metadata": {},
   "outputs": [
    {
     "data": {
      "text/plain": [
       "'قلم'"
      ]
     },
     "execution_count": 90,
     "metadata": {},
     "output_type": "execute_result"
    }
   ],
   "source": [
    "nltk_remove_stop_words (stemmed_text, True)"
   ]
  },
  {
   "cell_type": "code",
   "execution_count": 91,
   "id": "61800ddf",
   "metadata": {},
   "outputs": [
    {
     "data": {
      "text/plain": [
       "'علم قلم'"
      ]
     },
     "execution_count": 91,
     "metadata": {},
     "output_type": "execute_result"
    }
   ],
   "source": [
    "stp_remove_stop_words (stemmed_text, True)"
   ]
  },
  {
   "cell_type": "markdown",
   "id": "f87634ea",
   "metadata": {},
   "source": [
    "Notice, in the case below both words are stop words but since this would have returned an empty string, we have created a function to return the original string. Better to have something rather than nothing."
   ]
  },
  {
   "cell_type": "code",
   "execution_count": 101,
   "id": "0bf6555b",
   "metadata": {},
   "outputs": [
    {
     "data": {
      "text/plain": [
       "'الذي من'"
      ]
     },
     "execution_count": 101,
     "metadata": {},
     "output_type": "execute_result"
    }
   ],
   "source": [
    "remove_stop_words ('الذي من')"
   ]
  },
  {
   "cell_type": "code",
   "execution_count": 61,
   "id": "8df5ad69",
   "metadata": {},
   "outputs": [
    {
     "data": {
      "text/plain": [
       "'الذي علم قلم'"
      ]
     },
     "execution_count": 61,
     "metadata": {},
     "output_type": "execute_result"
    }
   ],
   "source": [
    "# Original stemmed text for comparison\n",
    "stemmed_text"
   ]
  },
  {
   "cell_type": "code",
   "execution_count": 55,
   "id": "71594b7b",
   "metadata": {},
   "outputs": [
    {
     "data": {
      "text/plain": [
       "335"
      ]
     },
     "execution_count": 55,
     "metadata": {},
     "output_type": "execute_result"
    }
   ],
   "source": [
    "len (nltk_remove_stop_words (stemmed_text))"
   ]
  },
  {
   "cell_type": "code",
   "execution_count": 56,
   "id": "5eeccd33",
   "metadata": {
    "scrolled": true
   },
   "outputs": [
    {
     "data": {
      "text/plain": [
       "343"
      ]
     },
     "execution_count": 56,
     "metadata": {},
     "output_type": "execute_result"
    }
   ],
   "source": [
    "len (stp_remove_stop_words (stemmed_text))"
   ]
  },
  {
   "cell_type": "markdown",
   "id": "e0f968ac",
   "metadata": {},
   "source": [
    "It seems the stp_remove_stop_words is more accurate. But it also removes words like \"rab\". Also, it would be difficult to control the number of words removed by stp so maybe it is better to just use nltk"
   ]
  },
  {
   "cell_type": "markdown",
   "id": "917ec852",
   "metadata": {},
   "source": [
    "## Update MySQL record for tbl_quran"
   ]
  },
  {
   "cell_type": "code",
   "execution_count": 2,
   "id": "343c67d5",
   "metadata": {},
   "outputs": [],
   "source": [
    "import mysql.connector\n",
    "from sqlalchemy import create_engine"
   ]
  },
  {
   "cell_type": "code",
   "execution_count": 3,
   "id": "22fda8b8",
   "metadata": {},
   "outputs": [],
   "source": [
    "import connection.config"
   ]
  },
  {
   "cell_type": "code",
   "execution_count": 5,
   "id": "799edf7e",
   "metadata": {},
   "outputs": [],
   "source": [
    "# Create SQLAlchemy engine to connect to MySQL Database\n",
    "engine = create_engine(\"mysql+pymysql://{user}:{passwd}@{host}/{db}\".format(**connection.config.config))"
   ]
  },
  {
   "cell_type": "code",
   "execution_count": 6,
   "id": "76325878",
   "metadata": {},
   "outputs": [],
   "source": [
    "import pymysql"
   ]
  },
  {
   "cell_type": "code",
   "execution_count": 7,
   "id": "2edeb5bd",
   "metadata": {
    "scrolled": true
   },
   "outputs": [],
   "source": [
    "connection = pymysql.connect(**connection.config.config)"
   ]
  },
  {
   "cell_type": "code",
   "execution_count": 120,
   "id": "7f47df23",
   "metadata": {},
   "outputs": [],
   "source": [
    "def handler ():\n",
    "    \n",
    "    cur = connection.cursor()\n",
    "    cur.execute(\"SELECT surah_number, aya_number, text_minimal FROM tbl_quran\")\n",
    "    for row in cur.fetchall():\n",
    "        surah_number = row[0]\n",
    "        aya_number = row[1]\n",
    "        text_minimal = row[2]\n",
    "        \n",
    "        # Stem arabic text to reduce it to its root words\n",
    "        text_farasa_lemmatized = stemmer.stem (text_minimal)\n",
    "        # Remove stop words (i.e. such as من)\n",
    "        # Primary method is nltk\n",
    "        text_farasa_lemmatized_without_stop_words = remove_stop_words (text_farasa_lemmatized)        \n",
    "#         print(\"-lemmatized- {3} -without stop words- {4}\" .format(surah_number, aya_number, text_minimal, text_farasa_lemmatized, text_farasa_lemmatized_without_stop_words))\n",
    "        \n",
    "        cur.execute(\"UPDATE tbl_quran SET text_arabic_lemmatized = '{2}', text_arabic_lemmatized_without_stop_words = '{3}' WHERE surah_number = {0} AND aya_number = {1}\".format(surah_number, aya_number, text_farasa_lemmatized, text_farasa_lemmatized_without_stop_words))\n",
    "\n",
    "handler()\n"
   ]
  },
  {
   "cell_type": "code",
   "execution_count": 121,
   "id": "f57ae47b",
   "metadata": {},
   "outputs": [],
   "source": [
    "connection.close()"
   ]
  }
 ],
 "metadata": {
  "kernelspec": {
   "display_name": "Python 3 (ipykernel)",
   "language": "python",
   "name": "python3"
  },
  "language_info": {
   "codemirror_mode": {
    "name": "ipython",
    "version": 3
   },
   "file_extension": ".py",
   "mimetype": "text/x-python",
   "name": "python",
   "nbconvert_exporter": "python",
   "pygments_lexer": "ipython3",
   "version": "3.8.9"
  }
 },
 "nbformat": 4,
 "nbformat_minor": 5
}
