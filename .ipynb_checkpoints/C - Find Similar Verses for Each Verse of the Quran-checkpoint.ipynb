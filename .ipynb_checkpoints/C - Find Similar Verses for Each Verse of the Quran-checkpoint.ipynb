{
 "cells": [
  {
   "cell_type": "code",
   "execution_count": 428,
   "metadata": {},
   "outputs": [],
   "source": [
    "#Import dependencies\n",
    "import re, math\n",
    "import heapq\n",
    "from collections import Counter\n",
    "\n",
    "#Get the data\n",
    "# from tbl_products_info import *"
   ]
  },
  {
   "cell_type": "code",
   "execution_count": 429,
   "metadata": {},
   "outputs": [],
   "source": [
    "import json"
   ]
  },
  {
   "cell_type": "code",
   "execution_count": 430,
   "metadata": {},
   "outputs": [],
   "source": [
    "with open('quran.json') as f:\n",
    "    quran = json.load(f)"
   ]
  },
  {
   "cell_type": "code",
   "execution_count": 431,
   "metadata": {},
   "outputs": [],
   "source": [
    "#items_info = [{\"id\":\"2\",\"date_added\":\"2009-08-07 18:32:13\",\"product_id\":\"4984154\",\"category_id\":\"14\",\"name\":\"jawad building house\"}, {\"id\":\"27\",\"date_added\":\"2014-07-15 13:24:50\",\"product_id\":\"7997648\",\"category_id\":\"11\",\"name\":\"That guy named jawad walked down the street\"}, {\"id\":\"48\",\"date_added\":\"2009-09-27 08:09:07\",\"product_id\":\"8767908\",\"category_id\":\"27\",\"name\":\"Nothing about this makes sense\"}, {\"id\":\"4668\",\"date_added\":\"2009-09-27 08:09:07\",\"product_id\":\"87679808\",\"category_id\":\"27\",\"name\":\"walk in the street\"}]\n",
    "items_info = quran\n"
   ]
  },
  {
   "cell_type": "code",
   "execution_count": 432,
   "metadata": {},
   "outputs": [],
   "source": [
    "#Define variables\n",
    "search = {'surah_number': '2', 'aya_number': '219', 'translation': 'O Prophet intoxicants gambling believers Allah evil both benefit people revelations'}\n",
    "WORD = re.compile(r'\\w+')"
   ]
  },
  {
   "cell_type": "code",
   "execution_count": 433,
   "metadata": {},
   "outputs": [
    {
     "data": {
      "text/plain": [
       "{'surah_number': '2',\n",
       " 'aya_number': '219',\n",
       " 'translation': 'O Prophet intoxicants gambling believers Allah evil both benefit people revelations'}"
      ]
     },
     "execution_count": 433,
     "metadata": {},
     "output_type": "execute_result"
    }
   ],
   "source": [
    "search"
   ]
  },
  {
   "cell_type": "code",
   "execution_count": 434,
   "metadata": {},
   "outputs": [],
   "source": [
    "#Conver text to vector\n",
    "def text_to_vector(text):\n",
    "        words = WORD.findall(text)\n",
    "        return Counter(words)"
   ]
  },
  {
   "cell_type": "code",
   "execution_count": 435,
   "metadata": {},
   "outputs": [],
   "source": [
    "#Get cosine similarity\n",
    "def get_cosine(vec1, vec2):\n",
    "     intersection = set(vec1.keys()) & set(vec2.keys())\n",
    "     numerator = sum([vec1[x] * vec2[x] for x in intersection])\n",
    "\n",
    "     sum1 = sum([vec1[x]**2 for x in vec1.keys()])\n",
    "     sum2 = sum([vec2[x]**2 for x in vec2.keys()])\n",
    "     denominator = math.sqrt(sum1) * math.sqrt(sum2)\n",
    "\n",
    "     if not denominator:\n",
    "        return 0.0\n",
    "     else:\n",
    "        return float(numerator) / denominator"
   ]
  },
  {
   "cell_type": "code",
   "execution_count": 436,
   "metadata": {},
   "outputs": [],
   "source": [
    "#Get the category_id\n",
    "# def get_category(product_id):\n",
    "#         for item in items_info:\n",
    "#                 if ( item['product_id'] == product_id ):\n",
    "#                         return item['category_id']\n",
    "#         return 'please enter a vaid id'                "
   ]
  },
  {
   "cell_type": "code",
   "execution_count": 437,
   "metadata": {},
   "outputs": [],
   "source": [
    "#Get all categories             \n",
    "# def get_categories():\n",
    "#         categories = []\n",
    "#         for item in items_info:\n",
    "#                 categories.append(item['category_id'])\n",
    "#         categories = set(categories)      \n",
    "#         categories = list(categories)\n",
    "#         return categories"
   ]
  },
  {
   "cell_type": "code",
   "execution_count": 438,
   "metadata": {},
   "outputs": [],
   "source": [
    "#Get category item\n",
    "# def get_category_items(category_id):\n",
    "#         items = []\n",
    "#         for item in items_info:\n",
    "#                 if ( item['category_id'] == category_id ):\n",
    "#                         items.append(item)\n",
    "#         return items   "
   ]
  },
  {
   "cell_type": "code",
   "execution_count": 439,
   "metadata": {},
   "outputs": [],
   "source": [
    "#Get category item\n",
    "def get_quran_verses():\n",
    "        items = []\n",
    "        for item in items_info:\n",
    "            items.append(item)\n",
    "        return items   "
   ]
  },
  {
   "cell_type": "code",
   "execution_count": 440,
   "metadata": {},
   "outputs": [],
   "source": [
    "#Get the item info\n",
    "# def get_item_byId(product_id):\n",
    "#         theItem = []\n",
    "#         for item in items_info:\n",
    "#                 if ( item['product_id'] == product_id ):\n",
    "#                         theItem.append(item)\n",
    "#         return theItem "
   ]
  },
  {
   "cell_type": "code",
   "execution_count": 441,
   "metadata": {},
   "outputs": [],
   "source": [
    "#Compare similarities\n",
    "def compare_similarity(search,items):\n",
    "        theItem = search #get_item_byId(product_id)\n",
    "        text1 = theItem['translation']\n",
    "        vector1 = text_to_vector(text1)\n",
    "        similarities = []\n",
    "        for item in items:\n",
    "                if ( item['surah_number'] == theItem['surah_number'] and item['aya_number'] == theItem['aya_number']):\n",
    "                        pass\n",
    "                else:        \n",
    "                        text2 = item['translation']\n",
    "                        vector2 = text_to_vector(text2)\n",
    "                        cosine = get_cosine(vector1, vector2)\n",
    "                        similarities.append({'similarity' : cosine, 'surah_number' : item['surah_number'], 'aya_number' : item['aya_number'], translation: text2 })\n",
    "\n",
    "        return similarities"
   ]
  },
  {
   "cell_type": "code",
   "execution_count": 442,
   "metadata": {},
   "outputs": [],
   "source": [
    "#Get max similarities\n",
    "def get_max_similarities(similarities, num):\n",
    "        largest = heapq.nlargest(num, similarities, key=lambda s: s['similarity'])\n",
    "        return largest"
   ]
  },
  {
   "cell_type": "code",
   "execution_count": 443,
   "metadata": {},
   "outputs": [
    {
     "name": "stdout",
     "output_type": "stream",
     "text": [
      "[{'similarity': 0.27668578554642986, 'surah_number': '8', 'aya_number': '64', 'From among the jinn and mankind.\"\\n': 'O Prophet, sufficient for you is Allah and for whoever follows you of the believers.\\n'}, {'similarity': 0.26111648393354675, 'surah_number': '20', 'aya_number': '83', 'From among the jinn and mankind.\"\\n': '[Allah] said, \"And what made you hasten from your people, O Moses?\"\\n'}, {'similarity': 0.26010243550494205, 'surah_number': '61', 'aya_number': '5', 'From among the jinn and mankind.\"\\n': 'And [mention, O Muhammad], when Moses said to his people, \"O my people, why do you harm me while you certainly know that I am the messenger of Allah to you?\" And when they deviated, Allah caused their hearts to deviate. And Allah does not guide the defiantly disobedient people.\\n'}, {'similarity': 0.2279211529192759, 'surah_number': '10', 'aya_number': '104', 'From among the jinn and mankind.\"\\n': 'Say, [O Muhammad], \"O people, if you are in doubt as to my religion - then I do not worship those which you worship besides Allah; but I worship Allah, who causes your death. And I have been commanded to be of the believers\\n'}, {'similarity': 0.2279211529192759, 'surah_number': '20', 'aya_number': '19', 'From among the jinn and mankind.\"\\n': '[Allah] said, \"Throw it down, O Moses.\"\\n'}]\n"
     ]
    }
   ],
   "source": [
    "#Mix all to get the result\n",
    "#category_id = get_category(product_id)\n",
    "#items = get_category_items(category_id)\n",
    "items = get_quran_verses ()\n",
    "similarities = compare_similarity(search,items)\n",
    "#print(similarities)\n",
    "print(get_max_similarities(similarities, 5))"
   ]
  },
  {
   "cell_type": "code",
   "execution_count": 444,
   "metadata": {},
   "outputs": [],
   "source": [
    "# import json"
   ]
  },
  {
   "cell_type": "code",
   "execution_count": 445,
   "metadata": {},
   "outputs": [],
   "source": [
    "\n",
    "# formatted_quran = []\n",
    "# with open('en.sahih.txt') as f:\n",
    "#     lines = f.readlines()\n",
    "#     for line in lines:        \n",
    "#         v = line.split('|')\n",
    "#         surah_number = v[0]\n",
    "#         aya_number = v[1]\n",
    "#         translation = v[2]\n",
    "#         verse = {'surah_number':surah_number, 'aya_number': aya_number, 'translation': translation}\n",
    "#         formatted_quran.append(verse)\n",
    "        \n",
    "# formatted_quran"
   ]
  },
  {
   "cell_type": "code",
   "execution_count": 446,
   "metadata": {},
   "outputs": [],
   "source": [
    "# jsonString = json.dumps(formatted_quran)\n",
    "# jsonFile = open(\"quran.json\", \"w\")\n",
    "# jsonFile.write(jsonString)\n",
    "# jsonFile.close()"
   ]
  },
  {
   "cell_type": "code",
   "execution_count": null,
   "metadata": {},
   "outputs": [],
   "source": []
  },
  {
   "cell_type": "code",
   "execution_count": null,
   "metadata": {},
   "outputs": [],
   "source": []
  }
 ],
 "metadata": {
  "kernelspec": {
   "display_name": "Python 3 (ipykernel)",
   "language": "python",
   "name": "python3"
  },
  "language_info": {
   "codemirror_mode": {
    "name": "ipython",
    "version": 3
   },
   "file_extension": ".py",
   "mimetype": "text/x-python",
   "name": "python",
   "nbconvert_exporter": "python",
   "pygments_lexer": "ipython3",
   "version": "3.8.9"
  }
 },
 "nbformat": 4,
 "nbformat_minor": 2
}
