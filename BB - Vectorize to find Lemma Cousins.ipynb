{
 "cells": [
  {
   "cell_type": "markdown",
   "id": "fd6d91dd",
   "metadata": {},
   "source": [
    "# Find most closely related lemma for each lemma"
   ]
  },
  {
   "cell_type": "markdown",
   "id": "77e839eb",
   "metadata": {},
   "source": [
    "## Vectorize methods for splitting and comparing strings"
   ]
  },
  {
   "cell_type": "code",
   "execution_count": 14,
   "id": "fa33f937",
   "metadata": {},
   "outputs": [],
   "source": [
    "#Import dependencies\n",
    "import re, math\n",
    "import heapq\n",
    "from collections import Counter"
   ]
  },
  {
   "cell_type": "code",
   "execution_count": 15,
   "id": "8c3788ec",
   "metadata": {},
   "outputs": [],
   "source": [
    "#Convert text to vector\n",
    "def text_to_vector(text):\n",
    "        letters = list (text)\n",
    "        return Counter(letters)"
   ]
  },
  {
   "cell_type": "code",
   "execution_count": 16,
   "id": "332c01d2",
   "metadata": {},
   "outputs": [
    {
     "data": {
      "text/plain": [
       "Counter({'إ': 1, 'ن': 2, 'س': 1, 'ا': 1})"
      ]
     },
     "execution_count": 16,
     "metadata": {},
     "output_type": "execute_result"
    }
   ],
   "source": [
    "text_to_vector ('إنسان')"
   ]
  },
  {
   "cell_type": "code",
   "execution_count": 17,
   "id": "92b5188d",
   "metadata": {},
   "outputs": [],
   "source": [
    "#Get cosine similarity\n",
    "def get_cosine(vec1, vec2):\n",
    "     intersection = set(vec1.keys()) & set(vec2.keys())\n",
    "     numerator = sum([vec1[x] * vec2[x] for x in intersection])\n",
    "\n",
    "     sum1 = sum([vec1[x]**2 for x in vec1.keys()])\n",
    "     sum2 = sum([vec2[x]**2 for x in vec2.keys()])\n",
    "     denominator = math.sqrt(sum1) * math.sqrt(sum2)\n",
    "\n",
    "     if not denominator:\n",
    "        return 0.0\n",
    "     else:\n",
    "        return float(numerator) / denominator"
   ]
  },
  {
   "cell_type": "code",
   "execution_count": 18,
   "id": "72c6afdf",
   "metadata": {},
   "outputs": [],
   "source": [
    "#Compare similarities\n",
    "def compare_similarity(text1,text2):\n",
    "    vector1 = text_to_vector(text1)\n",
    "    vector2 = text_to_vector(text2)\n",
    "\n",
    "    cosine = get_cosine(vector1, vector2)\n",
    "    return cosine   "
   ]
  },
  {
   "cell_type": "code",
   "execution_count": 6,
   "id": "fcd0cf18",
   "metadata": {},
   "outputs": [
    {
     "name": "stdout",
     "output_type": "stream",
     "text": [
      "0.7171371656006361\n"
     ]
    }
   ],
   "source": [
    "lemma1 = 'إنسان'\n",
    "lemma2 = 'نسَانَ'\n",
    "print (compare_similarity (lemma1, lemma2))"
   ]
  },
  {
   "cell_type": "markdown",
   "id": "8fb28978",
   "metadata": {},
   "source": [
    "## Get a list of unique lemma's in the Qur'an"
   ]
  },
  {
   "cell_type": "code",
   "execution_count": 19,
   "id": "18ff1180",
   "metadata": {},
   "outputs": [],
   "source": [
    "import pymysql\n",
    "import connection.config"
   ]
  },
  {
   "cell_type": "code",
   "execution_count": 20,
   "id": "e79b595d",
   "metadata": {},
   "outputs": [],
   "source": [
    "connection = pymysql.connect(**connection.config.config)\n",
    "def get_set_of_lemmatized_words_from_quran ():\n",
    "    \n",
    "    s = set()\n",
    "    \n",
    "    cur = connection.cursor()\n",
    "    cur.execute(\"SELECT DISTINCT(lemmatized_word) FROM `tbl_translated_words`\")\n",
    "    \n",
    "    for row in cur.fetchall():\n",
    "        s.add (row[0])\n",
    "\n",
    "    connection.close ()\n",
    "    return s"
   ]
  },
  {
   "cell_type": "code",
   "execution_count": 21,
   "id": "88dbd730",
   "metadata": {},
   "outputs": [],
   "source": [
    "lemmas = get_set_of_lemmatized_words_from_quran ()"
   ]
  },
  {
   "cell_type": "code",
   "execution_count": 22,
   "id": "261bb0be",
   "metadata": {
    "scrolled": true
   },
   "outputs": [
    {
     "data": {
      "text/plain": [
       "5647"
      ]
     },
     "execution_count": 22,
     "metadata": {},
     "output_type": "execute_result"
    }
   ],
   "source": [
    "len (lemmas)"
   ]
  },
  {
   "cell_type": "markdown",
   "id": "bbcab5e6",
   "metadata": {},
   "source": [
    "## Compare each lemma with every other lemma and save it"
   ]
  },
  {
   "cell_type": "markdown",
   "id": "5769dd41",
   "metadata": {},
   "source": [
    "Use a memory efficient method to perform lemma comparison.\n",
    "\n",
    "We first load the data into a csv file in memory, and then output it to a DataFrame.\n",
    "\n",
    "Read more about the technique here: https://stackoverflow.com/questions/41888080/python-efficient-way-to-add-rows-to-dataframe"
   ]
  },
  {
   "cell_type": "code",
   "execution_count": 50,
   "id": "cbefdf45",
   "metadata": {},
   "outputs": [],
   "source": [
    "from io import StringIO\n",
    "from csv import writer \n",
    "import pandas as pd"
   ]
  },
  {
   "cell_type": "code",
   "execution_count": 51,
   "id": "2e7bc6f0",
   "metadata": {},
   "outputs": [],
   "source": [
    "# Store in csv memory object\n",
    "output = StringIO()\n",
    "csv_writer = writer(output)"
   ]
  },
  {
   "cell_type": "code",
   "execution_count": 52,
   "id": "8b447369",
   "metadata": {},
   "outputs": [],
   "source": [
    "csv_writer.writerow(['lemma_1', 'lemma_2', 'cosine_similarity'])\n",
    "for lemma1 in lemmas:\n",
    "    for lemma2 in lemmas:\n",
    "        if lemma1 != lemma2:\n",
    "            similarity = compare_similarity (lemma1, lemma2)\n",
    "            if similarity != 0:\n",
    "                csv_writer.writerow([lemma1, lemma2, similarity])\n",
    "#     break;"
   ]
  },
  {
   "cell_type": "code",
   "execution_count": 53,
   "id": "8ca276fc",
   "metadata": {},
   "outputs": [],
   "source": [
    "# Read back into the dataframe\n",
    "output.seek(0)\n",
    "df = pd.read_csv(output)"
   ]
  },
  {
   "cell_type": "code",
   "execution_count": null,
   "id": "e0b57906",
   "metadata": {},
   "outputs": [],
   "source": [
    "# df = pd.DataFrame(columns=['lemma_1', 'lemma_2', 'cosine_similarity'])"
   ]
  },
  {
   "cell_type": "code",
   "execution_count": 54,
   "id": "7413eb7f",
   "metadata": {},
   "outputs": [
    {
     "data": {
      "text/plain": [
       "31882962"
      ]
     },
     "execution_count": 54,
     "metadata": {},
     "output_type": "execute_result"
    }
   ],
   "source": [
    "len (df)"
   ]
  },
  {
   "cell_type": "code",
   "execution_count": 55,
   "id": "c0e47a0d",
   "metadata": {},
   "outputs": [],
   "source": [
    "from sqlalchemy import create_engine\n",
    "import connection.config"
   ]
  },
  {
   "cell_type": "code",
   "execution_count": 56,
   "id": "917ececc",
   "metadata": {},
   "outputs": [],
   "source": [
    "# Create SQLAlchemy engine to connect to MySQL Database\n",
    "engine = create_engine(\"mysql+pymysql://{user}:{passwd}@{host}/{db}\".format(**connection.config.config))"
   ]
  },
  {
   "cell_type": "code",
   "execution_count": 57,
   "id": "27f95f10",
   "metadata": {},
   "outputs": [
    {
     "data": {
      "text/plain": [
       "31882962"
      ]
     },
     "execution_count": 57,
     "metadata": {},
     "output_type": "execute_result"
    }
   ],
   "source": [
    "# Save to MySQL using chunks of 500 rows each\n",
    "df.to_sql('tbl_lemma_relatives', engine, index=False, if_exists='append', chunksize=500, method=None)"
   ]
  }
 ],
 "metadata": {
  "kernelspec": {
   "display_name": "Python 3 (ipykernel)",
   "language": "python",
   "name": "python3"
  },
  "language_info": {
   "codemirror_mode": {
    "name": "ipython",
    "version": 3
   },
   "file_extension": ".py",
   "mimetype": "text/x-python",
   "name": "python",
   "nbconvert_exporter": "python",
   "pygments_lexer": "ipython3",
   "version": "3.8.9"
  }
 },
 "nbformat": 4,
 "nbformat_minor": 5
}
