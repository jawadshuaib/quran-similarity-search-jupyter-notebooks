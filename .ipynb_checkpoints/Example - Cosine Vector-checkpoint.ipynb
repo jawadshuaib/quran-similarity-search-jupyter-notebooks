{
 "cells": [
  {
   "cell_type": "code",
   "execution_count": 193,
   "metadata": {},
   "outputs": [],
   "source": [
    "#Import dependencies\n",
    "import re, math\n",
    "import heapq\n",
    "from collections import Counter\n",
    "\n",
    "#Get the data\n",
    "# from tbl_products_info import *"
   ]
  },
  {
   "cell_type": "code",
   "execution_count": 194,
   "metadata": {},
   "outputs": [],
   "source": [
    "import json"
   ]
  },
  {
   "cell_type": "code",
   "execution_count": 195,
   "metadata": {},
   "outputs": [],
   "source": [
    "with open('quran.json') as f:\n",
    "    quran = json.load(f)"
   ]
  },
  {
   "cell_type": "code",
   "execution_count": 196,
   "metadata": {},
   "outputs": [],
   "source": [
    "#items_info = [{\"id\":\"2\",\"date_added\":\"2009-08-07 18:32:13\",\"product_id\":\"4984154\",\"category_id\":\"14\",\"name\":\"jawad building house\"}, {\"id\":\"27\",\"date_added\":\"2014-07-15 13:24:50\",\"product_id\":\"7997648\",\"category_id\":\"11\",\"name\":\"That guy named jawad walked down the street\"}, {\"id\":\"48\",\"date_added\":\"2009-09-27 08:09:07\",\"product_id\":\"8767908\",\"category_id\":\"27\",\"name\":\"Nothing about this makes sense\"}, {\"id\":\"4668\",\"date_added\":\"2009-09-27 08:09:07\",\"product_id\":\"87679808\",\"category_id\":\"27\",\"name\":\"walk in the street\"}]\n",
    "items_info = quran\n"
   ]
  },
  {
   "cell_type": "code",
   "execution_count": 197,
   "metadata": {},
   "outputs": [],
   "source": [
    "#Define variables\n",
    "search = {surah_number: 66, aya_number: 1, translation: 'Prophet, why do you prohibit what God has made lawful to you in your desire to please your wives? Yet God is forgiving and merciful:'}\n",
    "WORD = re.compile(r'\\w+')"
   ]
  },
  {
   "cell_type": "code",
   "execution_count": 198,
   "metadata": {},
   "outputs": [],
   "source": [
    "#Conver text to vector\n",
    "def text_to_vector(text):\n",
    "        words = WORD.findall(text)\n",
    "        return Counter(words)"
   ]
  },
  {
   "cell_type": "code",
   "execution_count": 199,
   "metadata": {},
   "outputs": [],
   "source": [
    "#Get cosine similarity\n",
    "def get_cosine(vec1, vec2):\n",
    "     intersection = set(vec1.keys()) & set(vec2.keys())\n",
    "     numerator = sum([vec1[x] * vec2[x] for x in intersection])\n",
    "\n",
    "     sum1 = sum([vec1[x]**2 for x in vec1.keys()])\n",
    "     sum2 = sum([vec2[x]**2 for x in vec2.keys()])\n",
    "     denominator = math.sqrt(sum1) * math.sqrt(sum2)\n",
    "\n",
    "     if not denominator:\n",
    "        return 0.0\n",
    "     else:\n",
    "        return float(numerator) / denominator"
   ]
  },
  {
   "cell_type": "code",
   "execution_count": 200,
   "metadata": {},
   "outputs": [],
   "source": [
    "#Get the category_id\n",
    "# def get_category(product_id):\n",
    "#         for item in items_info:\n",
    "#                 if ( item['product_id'] == product_id ):\n",
    "#                         return item['category_id']\n",
    "#         return 'please enter a vaid id'                "
   ]
  },
  {
   "cell_type": "code",
   "execution_count": 201,
   "metadata": {},
   "outputs": [],
   "source": [
    "#Get all categories             \n",
    "# def get_categories():\n",
    "#         categories = []\n",
    "#         for item in items_info:\n",
    "#                 categories.append(item['category_id'])\n",
    "#         categories = set(categories)      \n",
    "#         categories = list(categories)\n",
    "#         return categories"
   ]
  },
  {
   "cell_type": "code",
   "execution_count": 202,
   "metadata": {},
   "outputs": [],
   "source": [
    "#Get category item\n",
    "# def get_category_items(category_id):\n",
    "#         items = []\n",
    "#         for item in items_info:\n",
    "#                 if ( item['category_id'] == category_id ):\n",
    "#                         items.append(item)\n",
    "#         return items   "
   ]
  },
  {
   "cell_type": "code",
   "execution_count": 203,
   "metadata": {},
   "outputs": [],
   "source": [
    "#Get category item\n",
    "def get_quran_verses():\n",
    "        items = []\n",
    "        for item in items_info:\n",
    "            items.append(item)\n",
    "        return items   "
   ]
  },
  {
   "cell_type": "code",
   "execution_count": 204,
   "metadata": {},
   "outputs": [],
   "source": [
    "#Get the item info\n",
    "# def get_item_byId(product_id):\n",
    "#         theItem = []\n",
    "#         for item in items_info:\n",
    "#                 if ( item['product_id'] == product_id ):\n",
    "#                         theItem.append(item)\n",
    "#         return theItem "
   ]
  },
  {
   "cell_type": "code",
   "execution_count": 205,
   "metadata": {},
   "outputs": [],
   "source": [
    "#Compare similarities\n",
    "def compare_similarity(search,items):\n",
    "        theItem = search #get_item_byId(product_id)\n",
    "        text1 = theItem[0]['translation']\n",
    "        vector1 = text_to_vector(text1)\n",
    "        similarities = []\n",
    "        for item in items:\n",
    "                if ( item['surah_number'] == theItem[0]['surah_number'] and item['aya_number'] == theItem[0]['aya_number']):\n",
    "                        pass\n",
    "                else:        \n",
    "                        text2 = item['name']\n",
    "                        vector2 = text_to_vector(text2)\n",
    "                        cosine = get_cosine(vector1, vector2)\n",
    "                        similarities.append({'similarity' : cosine, 'surah_number' : item['surah_number'], 'aya_number' : item['aya_number'] })\n",
    "\n",
    "        return similarities"
   ]
  },
  {
   "cell_type": "code",
   "execution_count": 206,
   "metadata": {},
   "outputs": [],
   "source": [
    "#Get max similarities\n",
    "def get_max_similarities(similarities, num):\n",
    "        largest = heapq.nlargest(num, similarities, key=lambda s: s['similarity'])\n",
    "        return largest"
   ]
  },
  {
   "cell_type": "code",
   "execution_count": 207,
   "metadata": {},
   "outputs": [
    {
     "ename": "KeyError",
     "evalue": "0",
     "output_type": "error",
     "traceback": [
      "\u001b[0;31m---------------------------------------------------------------------------\u001b[0m",
      "\u001b[0;31mKeyError\u001b[0m                                  Traceback (most recent call last)",
      "Input \u001b[0;32mIn [207]\u001b[0m, in \u001b[0;36m<cell line: 5>\u001b[0;34m()\u001b[0m\n\u001b[1;32m      1\u001b[0m \u001b[38;5;66;03m#Mix all to get the result\u001b[39;00m\n\u001b[1;32m      2\u001b[0m \u001b[38;5;66;03m#category_id = get_category(product_id)\u001b[39;00m\n\u001b[1;32m      3\u001b[0m \u001b[38;5;66;03m#items = get_category_items(category_id)\u001b[39;00m\n\u001b[1;32m      4\u001b[0m items \u001b[38;5;241m=\u001b[39m get_quran_verses ()\n\u001b[0;32m----> 5\u001b[0m similarities \u001b[38;5;241m=\u001b[39m \u001b[43mcompare_similarity\u001b[49m\u001b[43m(\u001b[49m\u001b[43mverse\u001b[49m\u001b[43m,\u001b[49m\u001b[43mitems\u001b[49m\u001b[43m)\u001b[49m\n\u001b[1;32m      6\u001b[0m \u001b[38;5;28mprint\u001b[39m(get_max_similarities(similarities, \u001b[38;5;241m5\u001b[39m))\n",
      "Input \u001b[0;32mIn [205]\u001b[0m, in \u001b[0;36mcompare_similarity\u001b[0;34m(verse, items)\u001b[0m\n\u001b[1;32m      2\u001b[0m \u001b[38;5;28;01mdef\u001b[39;00m \u001b[38;5;21mcompare_similarity\u001b[39m(verse,items):\n\u001b[1;32m      3\u001b[0m         theItem \u001b[38;5;241m=\u001b[39m search \u001b[38;5;66;03m#get_item_byId(product_id)\u001b[39;00m\n\u001b[0;32m----> 4\u001b[0m         text1 \u001b[38;5;241m=\u001b[39m \u001b[43mtheItem\u001b[49m\u001b[43m[\u001b[49m\u001b[38;5;241;43m0\u001b[39;49m\u001b[43m]\u001b[49m[\u001b[38;5;124m'\u001b[39m\u001b[38;5;124mtranslation\u001b[39m\u001b[38;5;124m'\u001b[39m]\n\u001b[1;32m      5\u001b[0m         vector1 \u001b[38;5;241m=\u001b[39m text_to_vector(text1)\n\u001b[1;32m      6\u001b[0m         similarities \u001b[38;5;241m=\u001b[39m []\n",
      "\u001b[0;31mKeyError\u001b[0m: 0"
     ]
    }
   ],
   "source": [
    "#Mix all to get the result\n",
    "#category_id = get_category(product_id)\n",
    "#items = get_category_items(category_id)\n",
    "items = get_quran_verses ()\n",
    "similarities = compare_similarity(search,items)\n",
    "print(get_max_similarities(similarities, 5))"
   ]
  },
  {
   "cell_type": "code",
   "execution_count": null,
   "metadata": {},
   "outputs": [],
   "source": [
    "# import json"
   ]
  },
  {
   "cell_type": "code",
   "execution_count": null,
   "metadata": {},
   "outputs": [],
   "source": [
    "\n",
    "# formatted_quran = []\n",
    "# with open('en.sahih.txt') as f:\n",
    "#     lines = f.readlines()\n",
    "#     for line in lines:        \n",
    "#         v = line.split('|')\n",
    "#         surah_number = v[0]\n",
    "#         aya_number = v[1]\n",
    "#         translation = v[2]\n",
    "#         verse = {'surah_number':surah_number, 'aya_number': aya_number, 'translation': translation}\n",
    "#         formatted_quran.append(verse)\n",
    "        \n",
    "# formatted_quran"
   ]
  },
  {
   "cell_type": "code",
   "execution_count": null,
   "metadata": {},
   "outputs": [],
   "source": [
    "# jsonString = json.dumps(formatted_quran)\n",
    "# jsonFile = open(\"quran.json\", \"w\")\n",
    "# jsonFile.write(jsonString)\n",
    "# jsonFile.close()"
   ]
  },
  {
   "cell_type": "code",
   "execution_count": null,
   "metadata": {},
   "outputs": [],
   "source": []
  },
  {
   "cell_type": "code",
   "execution_count": null,
   "metadata": {},
   "outputs": [],
   "source": []
  }
 ],
 "metadata": {
  "kernelspec": {
   "display_name": "Python 3 (ipykernel)",
   "language": "python",
   "name": "python3"
  },
  "language_info": {
   "codemirror_mode": {
    "name": "ipython",
    "version": 3
   },
   "file_extension": ".py",
   "mimetype": "text/x-python",
   "name": "python",
   "nbconvert_exporter": "python",
   "pygments_lexer": "ipython3",
   "version": "3.8.9"
  }
 },
 "nbformat": 4,
 "nbformat_minor": 2
}
